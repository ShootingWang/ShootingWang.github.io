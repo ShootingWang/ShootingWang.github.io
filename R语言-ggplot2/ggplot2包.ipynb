{
 "cells": [
  {
   "cell_type": "code",
   "execution_count": null,
   "metadata": {},
   "outputs": [],
   "source": [
    "install.packages('gcookbook')"
   ]
  },
  {
   "cell_type": "code",
   "execution_count": 1,
   "metadata": {},
   "outputs": [],
   "source": [
    "library(ggplot2)   ## 用于绘图\n",
    "library(gcookbook) ## 使用当中的数据\n",
    "library(plyr)"
   ]
  },
  {
   "cell_type": "code",
   "execution_count": 3,
   "metadata": {},
   "outputs": [],
   "source": [
    "uspopage_prop = ddply(uspopage, \"Year\", transform, Percent = Thousands / sum(Thousands) * 100 )"
   ]
  },
  {
   "cell_type": "code",
   "execution_count": 2,
   "metadata": {},
   "outputs": [
    {
     "data": {
      "text/html": [
       "<table class=\"dataframe\">\n",
       "<caption>A data.frame: 6 × 3</caption>\n",
       "<thead>\n",
       "\t<tr><th></th><th scope=col>Year</th><th scope=col>AgeGroup</th><th scope=col>Thousands</th></tr>\n",
       "\t<tr><th></th><th scope=col>&lt;int&gt;</th><th scope=col>&lt;fct&gt;</th><th scope=col>&lt;int&gt;</th></tr>\n",
       "</thead>\n",
       "<tbody>\n",
       "\t<tr><th scope=row>1</th><td>1900</td><td><span style=white-space:pre-wrap>&lt;5   </span></td><td> 9181</td></tr>\n",
       "\t<tr><th scope=row>2</th><td>1900</td><td>5-14 </td><td>16966</td></tr>\n",
       "\t<tr><th scope=row>3</th><td>1900</td><td>15-24</td><td>14951</td></tr>\n",
       "\t<tr><th scope=row>4</th><td>1900</td><td>25-34</td><td>12161</td></tr>\n",
       "\t<tr><th scope=row>5</th><td>1900</td><td>35-44</td><td> 9273</td></tr>\n",
       "\t<tr><th scope=row>6</th><td>1900</td><td>45-54</td><td> 6437</td></tr>\n",
       "</tbody>\n",
       "</table>\n"
      ],
      "text/latex": [
       "A data.frame: 6 × 3\n",
       "\\begin{tabular}{r|lll}\n",
       "  & Year & AgeGroup & Thousands\\\\\n",
       "  & <int> & <fct> & <int>\\\\\n",
       "\\hline\n",
       "\t1 & 1900 & <5    &  9181\\\\\n",
       "\t2 & 1900 & 5-14  & 16966\\\\\n",
       "\t3 & 1900 & 15-24 & 14951\\\\\n",
       "\t4 & 1900 & 25-34 & 12161\\\\\n",
       "\t5 & 1900 & 35-44 &  9273\\\\\n",
       "\t6 & 1900 & 45-54 &  6437\\\\\n",
       "\\end{tabular}\n"
      ],
      "text/markdown": [
       "\n",
       "A data.frame: 6 × 3\n",
       "\n",
       "| <!--/--> | Year &lt;int&gt; | AgeGroup &lt;fct&gt; | Thousands &lt;int&gt; |\n",
       "|---|---|---|---|\n",
       "| 1 | 1900 | &lt;5    |  9181 |\n",
       "| 2 | 1900 | 5-14  | 16966 |\n",
       "| 3 | 1900 | 15-24 | 14951 |\n",
       "| 4 | 1900 | 25-34 | 12161 |\n",
       "| 5 | 1900 | 35-44 |  9273 |\n",
       "| 6 | 1900 | 45-54 |  6437 |\n",
       "\n"
      ],
      "text/plain": [
       "  Year AgeGroup Thousands\n",
       "1 1900 <5        9181    \n",
       "2 1900 5-14     16966    \n",
       "3 1900 15-24    14951    \n",
       "4 1900 25-34    12161    \n",
       "5 1900 35-44     9273    \n",
       "6 1900 45-54     6437    "
      ]
     },
     "metadata": {},
     "output_type": "display_data"
    }
   ],
   "source": [
    "head(gcookbook::uspopage)"
   ]
  },
  {
   "cell_type": "code",
   "execution_count": 6,
   "metadata": {},
   "outputs": [
    {
     "data": {
      "text/html": [
       "<table class=\"dataframe\">\n",
       "<caption>A data.frame: 6 × 4</caption>\n",
       "<thead>\n",
       "\t<tr><th></th><th scope=col>Year</th><th scope=col>AgeGroup</th><th scope=col>Thousands</th><th scope=col>Percent</th></tr>\n",
       "\t<tr><th></th><th scope=col>&lt;int&gt;</th><th scope=col>&lt;fct&gt;</th><th scope=col>&lt;int&gt;</th><th scope=col>&lt;dbl&gt;</th></tr>\n",
       "</thead>\n",
       "<tbody>\n",
       "\t<tr><th scope=row>1</th><td>1900</td><td><span style=white-space:pre-wrap>&lt;5   </span></td><td> 9181</td><td>12.065340</td></tr>\n",
       "\t<tr><th scope=row>2</th><td>1900</td><td>5-14 </td><td>16966</td><td>22.296107</td></tr>\n",
       "\t<tr><th scope=row>3</th><td>1900</td><td>15-24</td><td>14951</td><td>19.648067</td></tr>\n",
       "\t<tr><th scope=row>4</th><td>1900</td><td>25-34</td><td>12161</td><td>15.981549</td></tr>\n",
       "\t<tr><th scope=row>5</th><td>1900</td><td>35-44</td><td> 9273</td><td>12.186243</td></tr>\n",
       "\t<tr><th scope=row>6</th><td>1900</td><td>45-54</td><td> 6437</td><td> 8.459274</td></tr>\n",
       "</tbody>\n",
       "</table>\n"
      ],
      "text/latex": [
       "A data.frame: 6 × 4\n",
       "\\begin{tabular}{r|llll}\n",
       "  & Year & AgeGroup & Thousands & Percent\\\\\n",
       "  & <int> & <fct> & <int> & <dbl>\\\\\n",
       "\\hline\n",
       "\t1 & 1900 & <5    &  9181 & 12.065340\\\\\n",
       "\t2 & 1900 & 5-14  & 16966 & 22.296107\\\\\n",
       "\t3 & 1900 & 15-24 & 14951 & 19.648067\\\\\n",
       "\t4 & 1900 & 25-34 & 12161 & 15.981549\\\\\n",
       "\t5 & 1900 & 35-44 &  9273 & 12.186243\\\\\n",
       "\t6 & 1900 & 45-54 &  6437 &  8.459274\\\\\n",
       "\\end{tabular}\n"
      ],
      "text/markdown": [
       "\n",
       "A data.frame: 6 × 4\n",
       "\n",
       "| <!--/--> | Year &lt;int&gt; | AgeGroup &lt;fct&gt; | Thousands &lt;int&gt; | Percent &lt;dbl&gt; |\n",
       "|---|---|---|---|---|\n",
       "| 1 | 1900 | &lt;5    |  9181 | 12.065340 |\n",
       "| 2 | 1900 | 5-14  | 16966 | 22.296107 |\n",
       "| 3 | 1900 | 15-24 | 14951 | 19.648067 |\n",
       "| 4 | 1900 | 25-34 | 12161 | 15.981549 |\n",
       "| 5 | 1900 | 35-44 |  9273 | 12.186243 |\n",
       "| 6 | 1900 | 45-54 |  6437 |  8.459274 |\n",
       "\n"
      ],
      "text/plain": [
       "  Year AgeGroup Thousands Percent  \n",
       "1 1900 <5        9181     12.065340\n",
       "2 1900 5-14     16966     22.296107\n",
       "3 1900 15-24    14951     19.648067\n",
       "4 1900 25-34    12161     15.981549\n",
       "5 1900 35-44     9273     12.186243\n",
       "6 1900 45-54     6437      8.459274"
      ]
     },
     "metadata": {},
     "output_type": "display_data"
    }
   ],
   "source": [
    "head(uspopage_prop)"
   ]
  },
  {
   "cell_type": "code",
   "execution_count": 5,
   "metadata": {},
   "outputs": [
    {
     "data": {
      "image/png": "[encoded data removed]",
      "text/plain": [
       "plot without title"
      ]
     },
     "metadata": {
      "image/png": {
       "height": 420,
       "width": 420
      }
     },
     "output_type": "display_data"
    }
   ],
   "source": [
    "p  = ggplot(uspopage_prop, aes(x = Year, y = Percent, fill = AgeGroup)) + \n",
    "        geom_area(colour = 'black', size = .2, alpha = .4) + \n",
    "        scale_fill_brewer(palette = \"Blues\", breaks = rev(levels(uspopage$AgeGroup)))\n",
    "p "
   ]
  },
  {
   "cell_type": "code",
   "execution_count": 7,
   "metadata": {},
   "outputs": [
    {
     "name": "stderr",
     "output_type": "stream",
     "text": [
      "Warning message in png(\"\\u767e\\u5206\\u6bd4\\u5806\\u79ef\\u9762\\u79ef\\u56fe.png\", width = 6, :\n",
      "\"'width=6, height=5'这样的像素值很可能不对\"\n"
     ]
    },
    {
     "data": {
      "text/html": [
       "<strong>png:</strong> 2"
      ],
      "text/latex": [
       "\\textbf{png:} 2"
      ],
      "text/markdown": [
       "**png:** 2"
      ],
      "text/plain": [
       "png \n",
       "  2 "
      ]
     },
     "metadata": {},
     "output_type": "display_data"
    }
   ],
   "source": [
    "png('百分比堆积面积图.png', width = , height = 5)\n",
    "dev.off()"
   ]
  },
  {
   "cell_type": "code",
   "execution_count": 8,
   "metadata": {},
   "outputs": [
    {
     "name": "stderr",
     "output_type": "stream",
     "text": [
      "Saving 6.67 x 6.67 in image\n",
      "\n"
     ]
    }
   ],
   "source": [
    "ggsave('百分比堆积面积图.png', dpi = 400, plot = p)"
   ]
  },
  {
   "cell_type": "code",
   "execution_count": null,
   "metadata": {},
   "outputs": [],
   "source": []
  },
  {
   "cell_type": "code",
   "execution_count": 9,
   "metadata": {},
   "outputs": [
    {
     "data": {
      "image/png": "[encoded data removed]",
      "text/plain": [
       "plot without title"
      ]
     },
     "metadata": {
      "image/png": {
       "height": 420,
       "width": 420
      }
     },
     "output_type": "display_data"
    }
   ],
   "source": [
    "library(gcookbook)\n",
    "\n",
    "p = ggplot(uspopage, aes(x = Year, y = Thousands, fill = AgeGroup)) + \n",
    "        geom_area()\n",
    "p "
   ]
  },
  {
   "cell_type": "code",
   "execution_count": null,
   "metadata": {},
   "outputs": [],
   "source": [
    "ggsave('堆积面积图.png', dpi = 400, plot = p)"
   ]
  }
 ],
 "metadata": {
  "kernelspec": {
   "display_name": "R 4.0.4",
   "language": "R",
   "name": "ir404"
  },
  "language_info": {
   "codemirror_mode": "r",
   "file_extension": ".r",
   "mimetype": "text/x-r-source",
   "name": "R",
   "pygments_lexer": "r",
   "version": "4.0.4"
  }
 },
 "nbformat": 4,
 "nbformat_minor": 2
}
