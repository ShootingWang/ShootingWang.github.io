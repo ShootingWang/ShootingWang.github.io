{
 "cells": [
  {
   "cell_type": "code",
   "execution_count": null,
   "metadata": {},
   "outputs": [],
   "source": []
  },
  {
   "cell_type": "markdown",
   "metadata": {},
   "source": [
    "# expand_limits()"
   ]
  },
  {
   "cell_type": "code",
   "execution_count": 60,
   "metadata": {},
   "outputs": [
    {
     "data": {
      "text/html": [
       "<table class=\"dataframe\">\n",
       "<caption>A data.frame: 6 × 2</caption>\n",
       "<thead>\n",
       "\t<tr><th></th><th scope=col>Time</th><th scope=col>demand</th></tr>\n",
       "\t<tr><th></th><th scope=col>&lt;dbl&gt;</th><th scope=col>&lt;dbl&gt;</th></tr>\n",
       "</thead>\n",
       "<tbody>\n",
       "\t<tr><th scope=row>1</th><td>1</td><td> 8.3</td></tr>\n",
       "\t<tr><th scope=row>2</th><td>2</td><td>10.3</td></tr>\n",
       "\t<tr><th scope=row>3</th><td>3</td><td>19.0</td></tr>\n",
       "\t<tr><th scope=row>4</th><td>4</td><td>16.0</td></tr>\n",
       "\t<tr><th scope=row>5</th><td>5</td><td>15.6</td></tr>\n",
       "\t<tr><th scope=row>6</th><td>7</td><td>19.8</td></tr>\n",
       "</tbody>\n",
       "</table>\n"
      ],
      "text/latex": [
       "A data.frame: 6 × 2\n",
       "\\begin{tabular}{r|ll}\n",
       "  & Time & demand\\\\\n",
       "  & <dbl> & <dbl>\\\\\n",
       "\\hline\n",
       "\t1 & 1 &  8.3\\\\\n",
       "\t2 & 2 & 10.3\\\\\n",
       "\t3 & 3 & 19.0\\\\\n",
       "\t4 & 4 & 16.0\\\\\n",
       "\t5 & 5 & 15.6\\\\\n",
       "\t6 & 7 & 19.8\\\\\n",
       "\\end{tabular}\n"
      ],
      "text/markdown": [
       "\n",
       "A data.frame: 6 × 2\n",
       "\n",
       "| <!--/--> | Time &lt;dbl&gt; | demand &lt;dbl&gt; |\n",
       "|---|---|---|\n",
       "| 1 | 1 |  8.3 |\n",
       "| 2 | 2 | 10.3 |\n",
       "| 3 | 3 | 19.0 |\n",
       "| 4 | 4 | 16.0 |\n",
       "| 5 | 5 | 15.6 |\n",
       "| 6 | 7 | 19.8 |\n",
       "\n"
      ],
      "text/plain": [
       "  Time demand\n",
       "1 1     8.3  \n",
       "2 2    10.3  \n",
       "3 3    19.0  \n",
       "4 4    16.0  \n",
       "5 5    15.6  \n",
       "6 7    19.8  "
      ]
     },
     "metadata": {},
     "output_type": "display_data"
    }
   ],
   "source": [
    "head(BOD)"
   ]
  },
  {
   "cell_type": "code",
   "execution_count": 62,
   "metadata": {},
   "outputs": [],
   "source": [
    "p = ggplot(BOD, aes(x = Time, y = demand)) + \n",
    "    geom_line()"
   ]
  },
  {
   "cell_type": "code",
   "execution_count": 63,
   "metadata": {},
   "outputs": [],
   "source": [
    "ggsave('默认y轴范围.png', dpi = 100, plot = p, width = 6, height = 4)"
   ]
  },
  {
   "cell_type": "code",
   "execution_count": null,
   "metadata": {},
   "outputs": [],
   "source": []
  },
  {
   "cell_type": "code",
   "execution_count": 67,
   "metadata": {},
   "outputs": [],
   "source": [
    "p = ggplot(BOD, aes(x = Time, y = demand)) + \n",
    "    geom_line() + \n",
    "    expand_limits(y = 0)"
   ]
  },
  {
   "cell_type": "code",
   "execution_count": 68,
   "metadata": {},
   "outputs": [],
   "source": [
    "ggsave('默认y轴范围2.png', dpi = 100, plot = p, width = 6, height = 4)"
   ]
  },
  {
   "cell_type": "code",
   "execution_count": null,
   "metadata": {},
   "outputs": [],
   "source": []
  },
  {
   "cell_type": "markdown",
   "metadata": {},
   "source": [
    "# facet_grid()"
   ]
  },
  {
   "cell_type": "code",
   "execution_count": 70,
   "metadata": {},
   "outputs": [],
   "source": [
    "library(gcookbook)"
   ]
  },
  {
   "cell_type": "code",
   "execution_count": 71,
   "metadata": {},
   "outputs": [
    {
     "data": {
      "text/html": [
       "<table class=\"dataframe\">\n",
       "<caption>A data.frame: 6 × 26</caption>\n",
       "<thead>\n",
       "\t<tr><th></th><th scope=col>id</th><th scope=col>first</th><th scope=col>last</th><th scope=col>name</th><th scope=col>year</th><th scope=col>stint</th><th scope=col>team</th><th scope=col>lg</th><th scope=col>g</th><th scope=col>ab</th><th scope=col>...</th><th scope=col>sb</th><th scope=col>cs</th><th scope=col>bb</th><th scope=col>so</th><th scope=col>ibb</th><th scope=col>hbp</th><th scope=col>sh</th><th scope=col>sf</th><th scope=col>gidp</th><th scope=col>avg</th></tr>\n",
       "\t<tr><th></th><th scope=col>&lt;fct&gt;</th><th scope=col>&lt;chr&gt;</th><th scope=col>&lt;chr&gt;</th><th scope=col>&lt;chr&gt;</th><th scope=col>&lt;int&gt;</th><th scope=col>&lt;int&gt;</th><th scope=col>&lt;fct&gt;</th><th scope=col>&lt;fct&gt;</th><th scope=col>&lt;int&gt;</th><th scope=col>&lt;int&gt;</th><th scope=col>...</th><th scope=col>&lt;int&gt;</th><th scope=col>&lt;int&gt;</th><th scope=col>&lt;int&gt;</th><th scope=col>&lt;int&gt;</th><th scope=col>&lt;int&gt;</th><th scope=col>&lt;int&gt;</th><th scope=col>&lt;int&gt;</th><th scope=col>&lt;int&gt;</th><th scope=col>&lt;int&gt;</th><th scope=col>&lt;dbl&gt;</th></tr>\n",
       "</thead>\n",
       "<tbody>\n",
       "\t<tr><th scope=row>1</th><td>walkela01</td><td>Larry  </td><td>Walker</td><td>Larry Walker  </td><td>2001</td><td>1</td><td>COL</td><td>NL</td><td>142</td><td>497</td><td>...</td><td>14</td><td> 5</td><td> 82</td><td>103</td><td> 6</td><td>14</td><td>0</td><td>8</td><td> 9</td><td>0.3501</td></tr>\n",
       "\t<tr><th scope=row>2</th><td>suzukic01</td><td>Ichiro </td><td>Suzuki</td><td>Ichiro Suzuki </td><td>2001</td><td>1</td><td>SEA</td><td>AL</td><td>157</td><td>692</td><td>...</td><td>56</td><td>14</td><td> 30</td><td> 53</td><td>10</td><td> 8</td><td>4</td><td>4</td><td> 3</td><td>0.3497</td></tr>\n",
       "\t<tr><th scope=row>3</th><td>giambja01</td><td>Jason  </td><td>Giambi</td><td>Jason Giambi  </td><td>2001</td><td>1</td><td>OAK</td><td>AL</td><td>154</td><td>520</td><td>...</td><td> 2</td><td> 0</td><td>129</td><td> 83</td><td>24</td><td>13</td><td>0</td><td>9</td><td>17</td><td>0.3423</td></tr>\n",
       "\t<tr><th scope=row>4</th><td>alomaro01</td><td>Roberto</td><td>Alomar</td><td>Roberto Alomar</td><td>2001</td><td>1</td><td>CLE</td><td>AL</td><td>157</td><td>575</td><td>...</td><td>30</td><td> 6</td><td> 80</td><td> 71</td><td> 5</td><td> 4</td><td>9</td><td>9</td><td> 9</td><td>0.3357</td></tr>\n",
       "\t<tr><th scope=row>5</th><td>heltoto01</td><td>Todd   </td><td>Helton</td><td>Todd Helton   </td><td>2001</td><td>1</td><td>COL</td><td>NL</td><td>159</td><td>587</td><td>...</td><td> 7</td><td> 5</td><td> 98</td><td>104</td><td>15</td><td> 5</td><td>1</td><td>5</td><td>14</td><td>0.3356</td></tr>\n",
       "\t<tr><th scope=row>6</th><td>aloumo01 </td><td>Moises </td><td>Alou  </td><td>Moises Alou   </td><td>2001</td><td>1</td><td>HOU</td><td>NL</td><td>136</td><td>513</td><td>...</td><td> 5</td><td> 1</td><td> 57</td><td> 57</td><td>14</td><td> 3</td><td>0</td><td>8</td><td>18</td><td>0.3314</td></tr>\n",
       "</tbody>\n",
       "</table>\n"
      ],
      "text/latex": [
       "A data.frame: 6 × 26\n",
       "\\begin{tabular}{r|lllllllllllllllllllll}\n",
       "  & id & first & last & name & year & stint & team & lg & g & ab & ... & sb & cs & bb & so & ibb & hbp & sh & sf & gidp & avg\\\\\n",
       "  & <fct> & <chr> & <chr> & <chr> & <int> & <int> & <fct> & <fct> & <int> & <int> & ... & <int> & <int> & <int> & <int> & <int> & <int> & <int> & <int> & <int> & <dbl>\\\\\n",
       "\\hline\n",
       "\t1 & walkela01 & Larry   & Walker & Larry Walker   & 2001 & 1 & COL & NL & 142 & 497 & ... & 14 &  5 &  82 & 103 &  6 & 14 & 0 & 8 &  9 & 0.3501\\\\\n",
       "\t2 & suzukic01 & Ichiro  & Suzuki & Ichiro Suzuki  & 2001 & 1 & SEA & AL & 157 & 692 & ... & 56 & 14 &  30 &  53 & 10 &  8 & 4 & 4 &  3 & 0.3497\\\\\n",
       "\t3 & giambja01 & Jason   & Giambi & Jason Giambi   & 2001 & 1 & OAK & AL & 154 & 520 & ... &  2 &  0 & 129 &  83 & 24 & 13 & 0 & 9 & 17 & 0.3423\\\\\n",
       "\t4 & alomaro01 & Roberto & Alomar & Roberto Alomar & 2001 & 1 & CLE & AL & 157 & 575 & ... & 30 &  6 &  80 &  71 &  5 &  4 & 9 & 9 &  9 & 0.3357\\\\\n",
       "\t5 & heltoto01 & Todd    & Helton & Todd Helton    & 2001 & 1 & COL & NL & 159 & 587 & ... &  7 &  5 &  98 & 104 & 15 &  5 & 1 & 5 & 14 & 0.3356\\\\\n",
       "\t6 & aloumo01  & Moises  & Alou   & Moises Alou    & 2001 & 1 & HOU & NL & 136 & 513 & ... &  5 &  1 &  57 &  57 & 14 &  3 & 0 & 8 & 18 & 0.3314\\\\\n",
       "\\end{tabular}\n"
      ],
      "text/markdown": [
       "\n",
       "A data.frame: 6 × 26\n",
       "\n",
       "| <!--/--> | id &lt;fct&gt; | first &lt;chr&gt; | last &lt;chr&gt; | name &lt;chr&gt; | year &lt;int&gt; | stint &lt;int&gt; | team &lt;fct&gt; | lg &lt;fct&gt; | g &lt;int&gt; | ab &lt;int&gt; | ... ... | sb &lt;int&gt; | cs &lt;int&gt; | bb &lt;int&gt; | so &lt;int&gt; | ibb &lt;int&gt; | hbp &lt;int&gt; | sh &lt;int&gt; | sf &lt;int&gt; | gidp &lt;int&gt; | avg &lt;dbl&gt; |\n",
       "|---|---|---|---|---|---|---|---|---|---|---|---|---|---|---|---|---|---|---|---|---|---|\n",
       "| 1 | walkela01 | Larry   | Walker | Larry Walker   | 2001 | 1 | COL | NL | 142 | 497 | ... | 14 |  5 |  82 | 103 |  6 | 14 | 0 | 8 |  9 | 0.3501 |\n",
       "| 2 | suzukic01 | Ichiro  | Suzuki | Ichiro Suzuki  | 2001 | 1 | SEA | AL | 157 | 692 | ... | 56 | 14 |  30 |  53 | 10 |  8 | 4 | 4 |  3 | 0.3497 |\n",
       "| 3 | giambja01 | Jason   | Giambi | Jason Giambi   | 2001 | 1 | OAK | AL | 154 | 520 | ... |  2 |  0 | 129 |  83 | 24 | 13 | 0 | 9 | 17 | 0.3423 |\n",
       "| 4 | alomaro01 | Roberto | Alomar | Roberto Alomar | 2001 | 1 | CLE | AL | 157 | 575 | ... | 30 |  6 |  80 |  71 |  5 |  4 | 9 | 9 |  9 | 0.3357 |\n",
       "| 5 | heltoto01 | Todd    | Helton | Todd Helton    | 2001 | 1 | COL | NL | 159 | 587 | ... |  7 |  5 |  98 | 104 | 15 |  5 | 1 | 5 | 14 | 0.3356 |\n",
       "| 6 | aloumo01  | Moises  | Alou   | Moises Alou    | 2001 | 1 | HOU | NL | 136 | 513 | ... |  5 |  1 |  57 |  57 | 14 |  3 | 0 | 8 | 18 | 0.3314 |\n",
       "\n"
      ],
      "text/plain": [
       "  id        first   last   name           year stint team lg g   ab  ... sb cs\n",
       "1 walkela01 Larry   Walker Larry Walker   2001 1     COL  NL 142 497 ... 14  5\n",
       "2 suzukic01 Ichiro  Suzuki Ichiro Suzuki  2001 1     SEA  AL 157 692 ... 56 14\n",
       "3 giambja01 Jason   Giambi Jason Giambi   2001 1     OAK  AL 154 520 ...  2  0\n",
       "4 alomaro01 Roberto Alomar Roberto Alomar 2001 1     CLE  AL 157 575 ... 30  6\n",
       "5 heltoto01 Todd    Helton Todd Helton    2001 1     COL  NL 159 587 ...  7  5\n",
       "6 aloumo01  Moises  Alou   Moises Alou    2001 1     HOU  NL 136 513 ...  5  1\n",
       "  bb  so  ibb hbp sh sf gidp avg   \n",
       "1  82 103  6  14  0  8   9   0.3501\n",
       "2  30  53 10   8  4  4   3   0.3497\n",
       "3 129  83 24  13  0  9  17   0.3423\n",
       "4  80  71  5   4  9  9   9   0.3357\n",
       "5  98 104 15   5  1  5  14   0.3356\n",
       "6  57  57 14   3  0  8  18   0.3314"
      ]
     },
     "metadata": {},
     "output_type": "display_data"
    }
   ],
   "source": [
    "head(gcookbook::tophitters2001)"
   ]
  },
  {
   "cell_type": "code",
   "execution_count": 87,
   "metadata": {},
   "outputs": [
    {
     "data": {
      "text/html": [
       "<table class=\"dataframe\">\n",
       "<caption>A data.frame: 6 × 26</caption>\n",
       "<thead>\n",
       "\t<tr><th></th><th scope=col>id</th><th scope=col>first</th><th scope=col>last</th><th scope=col>name</th><th scope=col>year</th><th scope=col>stint</th><th scope=col>team</th><th scope=col>lg</th><th scope=col>g</th><th scope=col>ab</th><th scope=col>...</th><th scope=col>sb</th><th scope=col>cs</th><th scope=col>bb</th><th scope=col>so</th><th scope=col>ibb</th><th scope=col>hbp</th><th scope=col>sh</th><th scope=col>sf</th><th scope=col>gidp</th><th scope=col>avg</th></tr>\n",
       "\t<tr><th></th><th scope=col>&lt;fct&gt;</th><th scope=col>&lt;chr&gt;</th><th scope=col>&lt;chr&gt;</th><th scope=col>&lt;chr&gt;</th><th scope=col>&lt;int&gt;</th><th scope=col>&lt;int&gt;</th><th scope=col>&lt;fct&gt;</th><th scope=col>&lt;fct&gt;</th><th scope=col>&lt;int&gt;</th><th scope=col>&lt;int&gt;</th><th scope=col>...</th><th scope=col>&lt;int&gt;</th><th scope=col>&lt;int&gt;</th><th scope=col>&lt;int&gt;</th><th scope=col>&lt;int&gt;</th><th scope=col>&lt;int&gt;</th><th scope=col>&lt;int&gt;</th><th scope=col>&lt;int&gt;</th><th scope=col>&lt;int&gt;</th><th scope=col>&lt;int&gt;</th><th scope=col>&lt;dbl&gt;</th></tr>\n",
       "</thead>\n",
       "<tbody>\n",
       "\t<tr><th scope=row>2</th><td>suzukic01</td><td>Ichiro</td><td>Suzuki  </td><td>Ichiro Suzuki </td><td>2001</td><td>1</td><td>SEA</td><td>AL</td><td>157</td><td>692</td><td>...</td><td>56</td><td>14</td><td>30</td><td> 53</td><td>10</td><td> 8</td><td>4</td><td> 4</td><td> 3</td><td>0.3497</td></tr>\n",
       "\t<tr><th scope=row>6</th><td>aloumo01 </td><td>Moises</td><td>Alou    </td><td>Moises Alou   </td><td>2001</td><td>1</td><td>HOU</td><td>NL</td><td>136</td><td>513</td><td>...</td><td> 5</td><td> 1</td><td>57</td><td> 57</td><td>14</td><td> 3</td><td>0</td><td> 8</td><td>18</td><td>0.3314</td></tr>\n",
       "\t<tr><th scope=row>7</th><td>berkmla01</td><td>Lance </td><td>Berkman </td><td>Lance Berkman </td><td>2001</td><td>1</td><td>HOU</td><td>NL</td><td>156</td><td>577</td><td>...</td><td> 7</td><td> 9</td><td>92</td><td>121</td><td> 5</td><td>13</td><td>0</td><td> 6</td><td> 8</td><td>0.3310</td></tr>\n",
       "\t<tr><th scope=row>8</th><td>boonebr01</td><td>Bret  </td><td>Boone   </td><td>Bret Boone    </td><td>2001</td><td>1</td><td>SEA</td><td>AL</td><td>158</td><td>623</td><td>...</td><td> 5</td><td> 5</td><td>40</td><td>110</td><td> 5</td><td> 9</td><td>5</td><td>13</td><td>11</td><td>0.3307</td></tr>\n",
       "\t<tr><th scope=row>32</th><td>martied01</td><td>Edgar </td><td>Martinez</td><td>Edgar Martinez</td><td>2001</td><td>1</td><td>SEA</td><td>AL</td><td>132</td><td>470</td><td>...</td><td> 4</td><td> 1</td><td>93</td><td> 90</td><td> 9</td><td> 9</td><td>0</td><td> 9</td><td>11</td><td>0.3064</td></tr>\n",
       "\t<tr><th scope=row>41</th><td>olerujo01</td><td>John  </td><td>Olerud  </td><td>John Olerud   </td><td>2001</td><td>1</td><td>SEA</td><td>AL</td><td>159</td><td>572</td><td>...</td><td> 3</td><td> 1</td><td>94</td><td> 70</td><td>19</td><td> 5</td><td>1</td><td> 7</td><td>21</td><td>0.3024</td></tr>\n",
       "</tbody>\n",
       "</table>\n"
      ],
      "text/latex": [
       "A data.frame: 6 × 26\n",
       "\\begin{tabular}{r|lllllllllllllllllllll}\n",
       "  & id & first & last & name & year & stint & team & lg & g & ab & ... & sb & cs & bb & so & ibb & hbp & sh & sf & gidp & avg\\\\\n",
       "  & <fct> & <chr> & <chr> & <chr> & <int> & <int> & <fct> & <fct> & <int> & <int> & ... & <int> & <int> & <int> & <int> & <int> & <int> & <int> & <int> & <int> & <dbl>\\\\\n",
       "\\hline\n",
       "\t2 & suzukic01 & Ichiro & Suzuki   & Ichiro Suzuki  & 2001 & 1 & SEA & AL & 157 & 692 & ... & 56 & 14 & 30 &  53 & 10 &  8 & 4 &  4 &  3 & 0.3497\\\\\n",
       "\t6 & aloumo01  & Moises & Alou     & Moises Alou    & 2001 & 1 & HOU & NL & 136 & 513 & ... &  5 &  1 & 57 &  57 & 14 &  3 & 0 &  8 & 18 & 0.3314\\\\\n",
       "\t7 & berkmla01 & Lance  & Berkman  & Lance Berkman  & 2001 & 1 & HOU & NL & 156 & 577 & ... &  7 &  9 & 92 & 121 &  5 & 13 & 0 &  6 &  8 & 0.3310\\\\\n",
       "\t8 & boonebr01 & Bret   & Boone    & Bret Boone     & 2001 & 1 & SEA & AL & 158 & 623 & ... &  5 &  5 & 40 & 110 &  5 &  9 & 5 & 13 & 11 & 0.3307\\\\\n",
       "\t32 & martied01 & Edgar  & Martinez & Edgar Martinez & 2001 & 1 & SEA & AL & 132 & 470 & ... &  4 &  1 & 93 &  90 &  9 &  9 & 0 &  9 & 11 & 0.3064\\\\\n",
       "\t41 & olerujo01 & John   & Olerud   & John Olerud    & 2001 & 1 & SEA & AL & 159 & 572 & ... &  3 &  1 & 94 &  70 & 19 &  5 & 1 &  7 & 21 & 0.3024\\\\\n",
       "\\end{tabular}\n"
      ],
      "text/markdown": [
       "\n",
       "A data.frame: 6 × 26\n",
       "\n",
       "| <!--/--> | id &lt;fct&gt; | first &lt;chr&gt; | last &lt;chr&gt; | name &lt;chr&gt; | year &lt;int&gt; | stint &lt;int&gt; | team &lt;fct&gt; | lg &lt;fct&gt; | g &lt;int&gt; | ab &lt;int&gt; | ... ... | sb &lt;int&gt; | cs &lt;int&gt; | bb &lt;int&gt; | so &lt;int&gt; | ibb &lt;int&gt; | hbp &lt;int&gt; | sh &lt;int&gt; | sf &lt;int&gt; | gidp &lt;int&gt; | avg &lt;dbl&gt; |\n",
       "|---|---|---|---|---|---|---|---|---|---|---|---|---|---|---|---|---|---|---|---|---|---|\n",
       "| 2 | suzukic01 | Ichiro | Suzuki   | Ichiro Suzuki  | 2001 | 1 | SEA | AL | 157 | 692 | ... | 56 | 14 | 30 |  53 | 10 |  8 | 4 |  4 |  3 | 0.3497 |\n",
       "| 6 | aloumo01  | Moises | Alou     | Moises Alou    | 2001 | 1 | HOU | NL | 136 | 513 | ... |  5 |  1 | 57 |  57 | 14 |  3 | 0 |  8 | 18 | 0.3314 |\n",
       "| 7 | berkmla01 | Lance  | Berkman  | Lance Berkman  | 2001 | 1 | HOU | NL | 156 | 577 | ... |  7 |  9 | 92 | 121 |  5 | 13 | 0 |  6 |  8 | 0.3310 |\n",
       "| 8 | boonebr01 | Bret   | Boone    | Bret Boone     | 2001 | 1 | SEA | AL | 158 | 623 | ... |  5 |  5 | 40 | 110 |  5 |  9 | 5 | 13 | 11 | 0.3307 |\n",
       "| 32 | martied01 | Edgar  | Martinez | Edgar Martinez | 2001 | 1 | SEA | AL | 132 | 470 | ... |  4 |  1 | 93 |  90 |  9 |  9 | 0 |  9 | 11 | 0.3064 |\n",
       "| 41 | olerujo01 | John   | Olerud   | John Olerud    | 2001 | 1 | SEA | AL | 159 | 572 | ... |  3 |  1 | 94 |  70 | 19 |  5 | 1 |  7 | 21 | 0.3024 |\n",
       "\n"
      ],
      "text/plain": [
       "   id        first  last     name           year stint team lg g   ab  ... sb\n",
       "2  suzukic01 Ichiro Suzuki   Ichiro Suzuki  2001 1     SEA  AL 157 692 ... 56\n",
       "6  aloumo01  Moises Alou     Moises Alou    2001 1     HOU  NL 136 513 ...  5\n",
       "7  berkmla01 Lance  Berkman  Lance Berkman  2001 1     HOU  NL 156 577 ...  7\n",
       "8  boonebr01 Bret   Boone    Bret Boone     2001 1     SEA  AL 158 623 ...  5\n",
       "32 martied01 Edgar  Martinez Edgar Martinez 2001 1     SEA  AL 132 470 ...  4\n",
       "41 olerujo01 John   Olerud   John Olerud    2001 1     SEA  AL 159 572 ...  3\n",
       "   cs bb so  ibb hbp sh sf gidp avg   \n",
       "2  14 30  53 10   8  4   4  3   0.3497\n",
       "6   1 57  57 14   3  0   8 18   0.3314\n",
       "7   9 92 121  5  13  0   6  8   0.3310\n",
       "8   5 40 110  5   9  5  13 11   0.3307\n",
       "32  1 93  90  9   9  0   9 11   0.3064\n",
       "41  1 94  70 19   5  1   7 21   0.3024"
      ]
     },
     "metadata": {},
     "output_type": "display_data"
    }
   ],
   "source": [
    "tophit = tophitters2001[(tophitters2001$team == 'HOU') | (tophitters2001$team == 'SEA'),]\n",
    "head(tophit)"
   ]
  },
  {
   "cell_type": "code",
   "execution_count": 76,
   "metadata": {},
   "outputs": [
    {
     "data": {
      "text/html": [
       "<style>\n",
       ".list-inline {list-style: none; margin:0; padding: 0}\n",
       ".list-inline>li {display: inline-block}\n",
       ".list-inline>li:not(:last-child)::after {content: \"\\00b7\"; padding: 0 .5ex}\n",
       "</style>\n",
       "<ol class=list-inline><li>1</li><li>1</li><li>1</li><li>1</li><li>1</li><li>1</li></ol>\n"
      ],
      "text/latex": [
       "\\begin{enumerate*}\n",
       "\\item 1\n",
       "\\item 1\n",
       "\\item 1\n",
       "\\item 1\n",
       "\\item 1\n",
       "\\item 1\n",
       "\\end{enumerate*}\n"
      ],
      "text/markdown": [
       "1. 1\n",
       "2. 1\n",
       "3. 1\n",
       "4. 1\n",
       "5. 1\n",
       "6. 1\n",
       "\n",
       "\n"
      ],
      "text/plain": [
       "[1] 1 1 1 1 1 1"
      ]
     },
     "metadata": {},
     "output_type": "display_data"
    }
   ],
   "source": [
    "head(tophitters2001$stint)"
   ]
  },
  {
   "cell_type": "code",
   "execution_count": 89,
   "metadata": {},
   "outputs": [],
   "source": [
    "p = ggplot(tophit, aes(x = avg, y = name)) + \n",
    "    geom_segment(aes(yend = name), xend = 0, colour = 'grey50') + \n",
    "    geom_point(size = 3, aes(colour = lg)) + \n",
    "    scale_color_brewer(palette = 'Set1', limits = c('NL', 'AL'), guide = FALSE) + \n",
    "    theme_bw() + \n",
    "    theme(panel.grid.major.y = element_blank()) + \n",
    "    facet_grid(lg~., scales = 'free_y', space = 'free_y')"
   ]
  },
  {
   "cell_type": "code",
   "execution_count": 90,
   "metadata": {},
   "outputs": [],
   "source": [
    "ggsave('分面条形图.png', dpi = 100, plot = p, width = 6, height = 4)"
   ]
  },
  {
   "cell_type": "code",
   "execution_count": 91,
   "metadata": {},
   "outputs": [
    {
     "data": {
      "text/html": [
       "<table class=\"dataframe\">\n",
       "<caption>A data.frame: 6 × 10</caption>\n",
       "<thead>\n",
       "\t<tr><th></th><th scope=col>low</th><th scope=col>age</th><th scope=col>lwt</th><th scope=col>race</th><th scope=col>smoke</th><th scope=col>ptl</th><th scope=col>ht</th><th scope=col>ui</th><th scope=col>ftv</th><th scope=col>bwt</th></tr>\n",
       "\t<tr><th></th><th scope=col>&lt;int&gt;</th><th scope=col>&lt;int&gt;</th><th scope=col>&lt;int&gt;</th><th scope=col>&lt;int&gt;</th><th scope=col>&lt;int&gt;</th><th scope=col>&lt;int&gt;</th><th scope=col>&lt;int&gt;</th><th scope=col>&lt;int&gt;</th><th scope=col>&lt;int&gt;</th><th scope=col>&lt;int&gt;</th></tr>\n",
       "</thead>\n",
       "<tbody>\n",
       "\t<tr><th scope=row>85</th><td>0</td><td>19</td><td>182</td><td>2</td><td>0</td><td>0</td><td>0</td><td>1</td><td>0</td><td>2523</td></tr>\n",
       "\t<tr><th scope=row>86</th><td>0</td><td>33</td><td>155</td><td>3</td><td>0</td><td>0</td><td>0</td><td>0</td><td>3</td><td>2551</td></tr>\n",
       "\t<tr><th scope=row>87</th><td>0</td><td>20</td><td>105</td><td>1</td><td>1</td><td>0</td><td>0</td><td>0</td><td>1</td><td>2557</td></tr>\n",
       "\t<tr><th scope=row>88</th><td>0</td><td>21</td><td>108</td><td>1</td><td>1</td><td>0</td><td>0</td><td>1</td><td>2</td><td>2594</td></tr>\n",
       "\t<tr><th scope=row>89</th><td>0</td><td>18</td><td>107</td><td>1</td><td>1</td><td>0</td><td>0</td><td>1</td><td>0</td><td>2600</td></tr>\n",
       "\t<tr><th scope=row>91</th><td>0</td><td>21</td><td>124</td><td>3</td><td>0</td><td>0</td><td>0</td><td>0</td><td>0</td><td>2622</td></tr>\n",
       "</tbody>\n",
       "</table>\n"
      ],
      "text/latex": [
       "A data.frame: 6 × 10\n",
       "\\begin{tabular}{r|llllllllll}\n",
       "  & low & age & lwt & race & smoke & ptl & ht & ui & ftv & bwt\\\\\n",
       "  & <int> & <int> & <int> & <int> & <int> & <int> & <int> & <int> & <int> & <int>\\\\\n",
       "\\hline\n",
       "\t85 & 0 & 19 & 182 & 2 & 0 & 0 & 0 & 1 & 0 & 2523\\\\\n",
       "\t86 & 0 & 33 & 155 & 3 & 0 & 0 & 0 & 0 & 3 & 2551\\\\\n",
       "\t87 & 0 & 20 & 105 & 1 & 1 & 0 & 0 & 0 & 1 & 2557\\\\\n",
       "\t88 & 0 & 21 & 108 & 1 & 1 & 0 & 0 & 1 & 2 & 2594\\\\\n",
       "\t89 & 0 & 18 & 107 & 1 & 1 & 0 & 0 & 1 & 0 & 2600\\\\\n",
       "\t91 & 0 & 21 & 124 & 3 & 0 & 0 & 0 & 0 & 0 & 2622\\\\\n",
       "\\end{tabular}\n"
      ],
      "text/markdown": [
       "\n",
       "A data.frame: 6 × 10\n",
       "\n",
       "| <!--/--> | low &lt;int&gt; | age &lt;int&gt; | lwt &lt;int&gt; | race &lt;int&gt; | smoke &lt;int&gt; | ptl &lt;int&gt; | ht &lt;int&gt; | ui &lt;int&gt; | ftv &lt;int&gt; | bwt &lt;int&gt; |\n",
       "|---|---|---|---|---|---|---|---|---|---|---|\n",
       "| 85 | 0 | 19 | 182 | 2 | 0 | 0 | 0 | 1 | 0 | 2523 |\n",
       "| 86 | 0 | 33 | 155 | 3 | 0 | 0 | 0 | 0 | 3 | 2551 |\n",
       "| 87 | 0 | 20 | 105 | 1 | 1 | 0 | 0 | 0 | 1 | 2557 |\n",
       "| 88 | 0 | 21 | 108 | 1 | 1 | 0 | 0 | 1 | 2 | 2594 |\n",
       "| 89 | 0 | 18 | 107 | 1 | 1 | 0 | 0 | 1 | 0 | 2600 |\n",
       "| 91 | 0 | 21 | 124 | 3 | 0 | 0 | 0 | 0 | 0 | 2622 |\n",
       "\n"
      ],
      "text/plain": [
       "   low age lwt race smoke ptl ht ui ftv bwt \n",
       "85 0   19  182 2    0     0   0  1  0   2523\n",
       "86 0   33  155 3    0     0   0  0  3   2551\n",
       "87 0   20  105 1    1     0   0  0  1   2557\n",
       "88 0   21  108 1    1     0   0  1  2   2594\n",
       "89 0   18  107 1    1     0   0  1  0   2600\n",
       "91 0   21  124 3    0     0   0  0  0   2622"
      ]
     },
     "metadata": {},
     "output_type": "display_data"
    }
   ],
   "source": [
    "library(MASS)\n",
    "head(birthwt)"
   ]
  },
  {
   "cell_type": "code",
   "execution_count": 93,
   "metadata": {},
   "outputs": [],
   "source": [
    "p = ggplot(birthwt, aes(x = bwt)) + \n",
    "    geom_histogram(fill = 'white', colour = 'black') + \n",
    "    facet_grid(smoke ~.)"
   ]
  },
  {
   "cell_type": "code",
   "execution_count": 94,
   "metadata": {},
   "outputs": [
    {
     "name": "stderr",
     "output_type": "stream",
     "text": [
      "`stat_bin()` using `bins = 30`. Pick better value with `binwidth`.\n",
      "\n"
     ]
    }
   ],
   "source": [
    "ggsave('分面直方图.png', dpi = 100, plot = p, width = 6, height = 4)"
   ]
  },
  {
   "cell_type": "code",
   "execution_count": null,
   "metadata": {},
   "outputs": [],
   "source": []
  },
  {
   "cell_type": "code",
   "execution_count": 97,
   "metadata": {},
   "outputs": [],
   "source": [
    "birthwt1 = birthwt\n",
    "birthwt1$smoke = factor(birthwt1$smoke)"
   ]
  },
  {
   "cell_type": "code",
   "execution_count": 98,
   "metadata": {},
   "outputs": [
    {
     "data": {
      "text/html": [
       "<style>\n",
       ".list-inline {list-style: none; margin:0; padding: 0}\n",
       ".list-inline>li {display: inline-block}\n",
       ".list-inline>li:not(:last-child)::after {content: \"\\00b7\"; padding: 0 .5ex}\n",
       "</style>\n",
       "<ol class=list-inline><li>'0'</li><li>'1'</li></ol>\n"
      ],
      "text/latex": [
       "\\begin{enumerate*}\n",
       "\\item '0'\n",
       "\\item '1'\n",
       "\\end{enumerate*}\n"
      ],
      "text/markdown": [
       "1. '0'\n",
       "2. '1'\n",
       "\n",
       "\n"
      ],
      "text/plain": [
       "[1] \"0\" \"1\""
      ]
     },
     "metadata": {},
     "output_type": "display_data"
    }
   ],
   "source": [
    "levels(birthwt1$smoke)"
   ]
  },
  {
   "cell_type": "code",
   "execution_count": 99,
   "metadata": {},
   "outputs": [],
   "source": [
    "library(plyr)\n",
    "birthwt1$smoke = revalue(birthwt1$smoke, c('0' = 'No Smoke', '1' = 'Smoke'))"
   ]
  },
  {
   "cell_type": "code",
   "execution_count": 101,
   "metadata": {},
   "outputs": [],
   "source": [
    "p = ggplot(birthwt1, aes(x = bwt)) + \n",
    "    geom_histogram(fill = 'white', colour = 'black') + \n",
    "    facet_grid(smoke~.)"
   ]
  },
  {
   "cell_type": "code",
   "execution_count": 102,
   "metadata": {},
   "outputs": [
    {
     "name": "stderr",
     "output_type": "stream",
     "text": [
      "`stat_bin()` using `bins = 30`. Pick better value with `binwidth`.\n",
      "\n"
     ]
    }
   ],
   "source": [
    "ggsave('分面直方图2.png', dpi = 100, plot = p, width = 6, height = 4)"
   ]
  },
  {
   "cell_type": "markdown",
   "metadata": {},
   "source": [
    "# geom_area()"
   ]
  },
  {
   "cell_type": "code",
   "execution_count": null,
   "metadata": {},
   "outputs": [],
   "source": [
    "install.packages('gcookbook')"
   ]
  },
  {
   "cell_type": "code",
   "execution_count": 1,
   "metadata": {},
   "outputs": [],
   "source": [
    "library(ggplot2)   ## 用于绘图\n",
    "library(gcookbook) ## 使用当中的数据\n",
    "library(plyr)"
   ]
  },
  {
   "cell_type": "code",
   "execution_count": 3,
   "metadata": {},
   "outputs": [],
   "source": [
    "uspopage_prop = ddply(uspopage, \"Year\", transform, Percent = Thousands / sum(Thousands) * 100 )"
   ]
  },
  {
   "cell_type": "code",
   "execution_count": 2,
   "metadata": {},
   "outputs": [
    {
     "data": {
      "text/html": [
       "<table class=\"dataframe\">\n",
       "<caption>A data.frame: 6 × 3</caption>\n",
       "<thead>\n",
       "\t<tr><th></th><th scope=col>Year</th><th scope=col>AgeGroup</th><th scope=col>Thousands</th></tr>\n",
       "\t<tr><th></th><th scope=col>&lt;int&gt;</th><th scope=col>&lt;fct&gt;</th><th scope=col>&lt;int&gt;</th></tr>\n",
       "</thead>\n",
       "<tbody>\n",
       "\t<tr><th scope=row>1</th><td>1900</td><td><span style=white-space:pre-wrap>&lt;5   </span></td><td> 9181</td></tr>\n",
       "\t<tr><th scope=row>2</th><td>1900</td><td>5-14 </td><td>16966</td></tr>\n",
       "\t<tr><th scope=row>3</th><td>1900</td><td>15-24</td><td>14951</td></tr>\n",
       "\t<tr><th scope=row>4</th><td>1900</td><td>25-34</td><td>12161</td></tr>\n",
       "\t<tr><th scope=row>5</th><td>1900</td><td>35-44</td><td> 9273</td></tr>\n",
       "\t<tr><th scope=row>6</th><td>1900</td><td>45-54</td><td> 6437</td></tr>\n",
       "</tbody>\n",
       "</table>\n"
      ],
      "text/latex": [
       "A data.frame: 6 × 3\n",
       "\\begin{tabular}{r|lll}\n",
       "  & Year & AgeGroup & Thousands\\\\\n",
       "  & <int> & <fct> & <int>\\\\\n",
       "\\hline\n",
       "\t1 & 1900 & <5    &  9181\\\\\n",
       "\t2 & 1900 & 5-14  & 16966\\\\\n",
       "\t3 & 1900 & 15-24 & 14951\\\\\n",
       "\t4 & 1900 & 25-34 & 12161\\\\\n",
       "\t5 & 1900 & 35-44 &  9273\\\\\n",
       "\t6 & 1900 & 45-54 &  6437\\\\\n",
       "\\end{tabular}\n"
      ],
      "text/markdown": [
       "\n",
       "A data.frame: 6 × 3\n",
       "\n",
       "| <!--/--> | Year &lt;int&gt; | AgeGroup &lt;fct&gt; | Thousands &lt;int&gt; |\n",
       "|---|---|---|---|\n",
       "| 1 | 1900 | &lt;5    |  9181 |\n",
       "| 2 | 1900 | 5-14  | 16966 |\n",
       "| 3 | 1900 | 15-24 | 14951 |\n",
       "| 4 | 1900 | 25-34 | 12161 |\n",
       "| 5 | 1900 | 35-44 |  9273 |\n",
       "| 6 | 1900 | 45-54 |  6437 |\n",
       "\n"
      ],
      "text/plain": [
       "  Year AgeGroup Thousands\n",
       "1 1900 <5        9181    \n",
       "2 1900 5-14     16966    \n",
       "3 1900 15-24    14951    \n",
       "4 1900 25-34    12161    \n",
       "5 1900 35-44     9273    \n",
       "6 1900 45-54     6437    "
      ]
     },
     "metadata": {},
     "output_type": "display_data"
    }
   ],
   "source": [
    "head(gcookbook::uspopage)"
   ]
  },
  {
   "cell_type": "code",
   "execution_count": 6,
   "metadata": {},
   "outputs": [
    {
     "data": {
      "text/html": [
       "<table class=\"dataframe\">\n",
       "<caption>A data.frame: 6 × 4</caption>\n",
       "<thead>\n",
       "\t<tr><th></th><th scope=col>Year</th><th scope=col>AgeGroup</th><th scope=col>Thousands</th><th scope=col>Percent</th></tr>\n",
       "\t<tr><th></th><th scope=col>&lt;int&gt;</th><th scope=col>&lt;fct&gt;</th><th scope=col>&lt;int&gt;</th><th scope=col>&lt;dbl&gt;</th></tr>\n",
       "</thead>\n",
       "<tbody>\n",
       "\t<tr><th scope=row>1</th><td>1900</td><td><span style=white-space:pre-wrap>&lt;5   </span></td><td> 9181</td><td>12.065340</td></tr>\n",
       "\t<tr><th scope=row>2</th><td>1900</td><td>5-14 </td><td>16966</td><td>22.296107</td></tr>\n",
       "\t<tr><th scope=row>3</th><td>1900</td><td>15-24</td><td>14951</td><td>19.648067</td></tr>\n",
       "\t<tr><th scope=row>4</th><td>1900</td><td>25-34</td><td>12161</td><td>15.981549</td></tr>\n",
       "\t<tr><th scope=row>5</th><td>1900</td><td>35-44</td><td> 9273</td><td>12.186243</td></tr>\n",
       "\t<tr><th scope=row>6</th><td>1900</td><td>45-54</td><td> 6437</td><td> 8.459274</td></tr>\n",
       "</tbody>\n",
       "</table>\n"
      ],
      "text/latex": [
       "A data.frame: 6 × 4\n",
       "\\begin{tabular}{r|llll}\n",
       "  & Year & AgeGroup & Thousands & Percent\\\\\n",
       "  & <int> & <fct> & <int> & <dbl>\\\\\n",
       "\\hline\n",
       "\t1 & 1900 & <5    &  9181 & 12.065340\\\\\n",
       "\t2 & 1900 & 5-14  & 16966 & 22.296107\\\\\n",
       "\t3 & 1900 & 15-24 & 14951 & 19.648067\\\\\n",
       "\t4 & 1900 & 25-34 & 12161 & 15.981549\\\\\n",
       "\t5 & 1900 & 35-44 &  9273 & 12.186243\\\\\n",
       "\t6 & 1900 & 45-54 &  6437 &  8.459274\\\\\n",
       "\\end{tabular}\n"
      ],
      "text/markdown": [
       "\n",
       "A data.frame: 6 × 4\n",
       "\n",
       "| <!--/--> | Year &lt;int&gt; | AgeGroup &lt;fct&gt; | Thousands &lt;int&gt; | Percent &lt;dbl&gt; |\n",
       "|---|---|---|---|---|\n",
       "| 1 | 1900 | &lt;5    |  9181 | 12.065340 |\n",
       "| 2 | 1900 | 5-14  | 16966 | 22.296107 |\n",
       "| 3 | 1900 | 15-24 | 14951 | 19.648067 |\n",
       "| 4 | 1900 | 25-34 | 12161 | 15.981549 |\n",
       "| 5 | 1900 | 35-44 |  9273 | 12.186243 |\n",
       "| 6 | 1900 | 45-54 |  6437 |  8.459274 |\n",
       "\n"
      ],
      "text/plain": [
       "  Year AgeGroup Thousands Percent  \n",
       "1 1900 <5        9181     12.065340\n",
       "2 1900 5-14     16966     22.296107\n",
       "3 1900 15-24    14951     19.648067\n",
       "4 1900 25-34    12161     15.981549\n",
       "5 1900 35-44     9273     12.186243\n",
       "6 1900 45-54     6437      8.459274"
      ]
     },
     "metadata": {},
     "output_type": "display_data"
    }
   ],
   "source": [
    "head(uspopage_prop)"
   ]
  },
  {
   "cell_type": "code",
   "execution_count": 17,
   "metadata": {},
   "outputs": [
    {
     "data": {
      "image/png": "[encoded data removed]",
      "text/plain": [
       "plot without title"
      ]
     },
     "metadata": {
      "image/png": {
       "height": 420,
       "width": 420
      }
     },
     "output_type": "display_data"
    }
   ],
   "source": [
    "p  = ggplot(uspopage_prop, aes(x = Year, y = Percent, fill = AgeGroup)) + \n",
    "        geom_area(colour = 'black', size = .2, alpha = .4) + \n",
    "        scale_fill_brewer(palette = \"Blues\", breaks = rev(levels(uspopage$AgeGroup)))\n",
    "p "
   ]
  },
  {
   "cell_type": "code",
   "execution_count": 18,
   "metadata": {},
   "outputs": [
    {
     "data": {
      "text/html": [
       "<strong>png:</strong> 2"
      ],
      "text/latex": [
       "\\textbf{png:} 2"
      ],
      "text/markdown": [
       "**png:** 2"
      ],
      "text/plain": [
       "png \n",
       "  2 "
      ]
     },
     "metadata": {},
     "output_type": "display_data"
    }
   ],
   "source": [
    "png('百分比堆积面积图.png', width = , height = 5)\n",
    "dev.off()"
   ]
  },
  {
   "cell_type": "code",
   "execution_count": 19,
   "metadata": {},
   "outputs": [],
   "source": [
    "ggsave('百分比堆积面积图.png', dpi = 100, plot = p, width = 6, height = 4)"
   ]
  },
  {
   "cell_type": "code",
   "execution_count": null,
   "metadata": {},
   "outputs": [],
   "source": []
  },
  {
   "cell_type": "code",
   "execution_count": 20,
   "metadata": {},
   "outputs": [
    {
     "data": {
      "image/png": "[encoded data removed]",
      "text/plain": [
       "plot without title"
      ]
     },
     "metadata": {
      "image/png": {
       "height": 420,
       "width": 420
      }
     },
     "output_type": "display_data"
    }
   ],
   "source": [
    "library(gcookbook)\n",
    "\n",
    "p = ggplot(uspopage, aes(x = Year, y = Thousands, fill = AgeGroup)) + \n",
    "        geom_area()\n",
    "p "
   ]
  },
  {
   "cell_type": "code",
   "execution_count": 21,
   "metadata": {},
   "outputs": [],
   "source": [
    "ggsave('堆积面积图.png', dpi = 100, plot = p, width = 6, height = 4)"
   ]
  },
  {
   "cell_type": "code",
   "execution_count": null,
   "metadata": {},
   "outputs": [],
   "source": []
  },
  {
   "cell_type": "code",
   "execution_count": 22,
   "metadata": {},
   "outputs": [
    {
     "data": {
      "image/png": "[encoded data removed]",
      "text/plain": [
       "plot without title"
      ]
     },
     "metadata": {
      "image/png": {
       "height": 420,
       "width": 420
      }
     },
     "output_type": "display_data"
    }
   ],
   "source": [
    "library(plyr)\n",
    "library(gcookbook)\n",
    "library(ggplot2)\n",
    "\n",
    "p = ggplot(uspopage, aes(x = Year, y = Thousands, fill = AgeGroup, order = desc(AgeGroup))) + \n",
    "        geom_area(colour = 'black', size = .2, alpha = .4) + \n",
    "        scale_fill_brewer(palette = 'Blues')\n",
    "p \n",
    "## aes中order确定图例的顺序"
   ]
  },
  {
   "cell_type": "code",
   "execution_count": 25,
   "metadata": {},
   "outputs": [],
   "source": [
    "ggsave('堆积面积图2.png', dpi = 100, plot = p, width = 6, height = 4)"
   ]
  },
  {
   "cell_type": "code",
   "execution_count": null,
   "metadata": {},
   "outputs": [],
   "source": []
  },
  {
   "cell_type": "code",
   "execution_count": 28,
   "metadata": {},
   "outputs": [],
   "source": [
    "sunspotyear = data.frame(Year = as.numeric(time(sunspot.year)),\n",
    "                        Sunspots = as.numeric(sunspot.year))\n",
    "p = ggplot(sunspotyear, aes(x = Year, y = Sunspots)) + geom_area()"
   ]
  },
  {
   "cell_type": "code",
   "execution_count": 29,
   "metadata": {},
   "outputs": [],
   "source": [
    "ggsave('面积图.png', dpi = 100, plot = p, width = 6, height = 4)"
   ]
  },
  {
   "cell_type": "code",
   "execution_count": null,
   "metadata": {},
   "outputs": [],
   "source": []
  },
  {
   "cell_type": "code",
   "execution_count": 30,
   "metadata": {},
   "outputs": [],
   "source": [
    "sunspotyear = data.frame(Year = as.numeric(time(sunspot.year)),\n",
    "                        Sunspots = as.numeric(sunspot.year))\n",
    "p = ggplot(sunspotyear, aes(x = Year, y = Sunspots)) + \n",
    "    geom_area(colour = 'black', fill = 'blue', alpha = .2)"
   ]
  },
  {
   "cell_type": "code",
   "execution_count": 31,
   "metadata": {},
   "outputs": [],
   "source": [
    "ggsave('面积图2.png', dpi = 100, plot = p, width = 6, height = 4)"
   ]
  },
  {
   "cell_type": "code",
   "execution_count": null,
   "metadata": {},
   "outputs": [],
   "source": []
  },
  {
   "cell_type": "code",
   "execution_count": 33,
   "metadata": {},
   "outputs": [],
   "source": [
    "p = ggplot(sunspotyear, aes(x = Year, y = Sunspots)) + \n",
    "    geom_area(fill = 'blue', alpha = .2) + ## 先绘制不带边框线的面积图\n",
    "    geom_line() ## 再绘制轨迹"
   ]
  },
  {
   "cell_type": "code",
   "execution_count": 34,
   "metadata": {},
   "outputs": [],
   "source": [
    "ggsave('面积图3.png', dpi = 100, plot = p, width = 6, height = 4)"
   ]
  },
  {
   "cell_type": "code",
   "execution_count": null,
   "metadata": {},
   "outputs": [],
   "source": []
  },
  {
   "cell_type": "markdown",
   "metadata": {},
   "source": [
    "# geom_bar()"
   ]
  },
  {
   "cell_type": "code",
   "execution_count": 103,
   "metadata": {},
   "outputs": [
    {
     "data": {
      "text/html": [
       "<table class=\"dataframe\">\n",
       "<caption>A data.frame: 6 × 4</caption>\n",
       "<thead>\n",
       "\t<tr><th></th><th scope=col>State</th><th scope=col>Abb</th><th scope=col>Region</th><th scope=col>Change</th></tr>\n",
       "\t<tr><th></th><th scope=col>&lt;chr&gt;</th><th scope=col>&lt;chr&gt;</th><th scope=col>&lt;fct&gt;</th><th scope=col>&lt;dbl&gt;</th></tr>\n",
       "</thead>\n",
       "<tbody>\n",
       "\t<tr><th scope=row>1</th><td>Alabama   </td><td>AL</td><td>South</td><td> 7.5</td></tr>\n",
       "\t<tr><th scope=row>2</th><td>Alaska    </td><td>AK</td><td>West </td><td>13.3</td></tr>\n",
       "\t<tr><th scope=row>3</th><td>Arizona   </td><td>AZ</td><td>West </td><td>24.6</td></tr>\n",
       "\t<tr><th scope=row>4</th><td>Arkansas  </td><td>AR</td><td>South</td><td> 9.1</td></tr>\n",
       "\t<tr><th scope=row>5</th><td>California</td><td>CA</td><td>West </td><td>10.0</td></tr>\n",
       "\t<tr><th scope=row>6</th><td>Colorado  </td><td>CO</td><td>West </td><td>16.9</td></tr>\n",
       "</tbody>\n",
       "</table>\n"
      ],
      "text/latex": [
       "A data.frame: 6 × 4\n",
       "\\begin{tabular}{r|llll}\n",
       "  & State & Abb & Region & Change\\\\\n",
       "  & <chr> & <chr> & <fct> & <dbl>\\\\\n",
       "\\hline\n",
       "\t1 & Alabama    & AL & South &  7.5\\\\\n",
       "\t2 & Alaska     & AK & West  & 13.3\\\\\n",
       "\t3 & Arizona    & AZ & West  & 24.6\\\\\n",
       "\t4 & Arkansas   & AR & South &  9.1\\\\\n",
       "\t5 & California & CA & West  & 10.0\\\\\n",
       "\t6 & Colorado   & CO & West  & 16.9\\\\\n",
       "\\end{tabular}\n"
      ],
      "text/markdown": [
       "\n",
       "A data.frame: 6 × 4\n",
       "\n",
       "| <!--/--> | State &lt;chr&gt; | Abb &lt;chr&gt; | Region &lt;fct&gt; | Change &lt;dbl&gt; |\n",
       "|---|---|---|---|---|\n",
       "| 1 | Alabama    | AL | South |  7.5 |\n",
       "| 2 | Alaska     | AK | West  | 13.3 |\n",
       "| 3 | Arizona    | AZ | West  | 24.6 |\n",
       "| 4 | Arkansas   | AR | South |  9.1 |\n",
       "| 5 | California | CA | West  | 10.0 |\n",
       "| 6 | Colorado   | CO | West  | 16.9 |\n",
       "\n"
      ],
      "text/plain": [
       "  State      Abb Region Change\n",
       "1 Alabama    AL  South   7.5  \n",
       "2 Alaska     AK  West   13.3  \n",
       "3 Arizona    AZ  West   24.6  \n",
       "4 Arkansas   AR  South   9.1  \n",
       "5 California CA  West   10.0  \n",
       "6 Colorado   CO  West   16.9  "
      ]
     },
     "metadata": {},
     "output_type": "display_data"
    }
   ],
   "source": [
    "library(gcookbook)\n",
    "\n",
    "head(uspopchange)"
   ]
  },
  {
   "cell_type": "code",
   "execution_count": 105,
   "metadata": {},
   "outputs": [
    {
     "data": {
      "text/html": [
       "<table class=\"dataframe\">\n",
       "<caption>A data.frame: 6 × 4</caption>\n",
       "<thead>\n",
       "\t<tr><th></th><th scope=col>State</th><th scope=col>Abb</th><th scope=col>Region</th><th scope=col>Change</th></tr>\n",
       "\t<tr><th></th><th scope=col>&lt;chr&gt;</th><th scope=col>&lt;chr&gt;</th><th scope=col>&lt;fct&gt;</th><th scope=col>&lt;dbl&gt;</th></tr>\n",
       "</thead>\n",
       "<tbody>\n",
       "\t<tr><th scope=row>3</th><td>Arizona </td><td>AZ</td><td>West </td><td>24.6</td></tr>\n",
       "\t<tr><th scope=row>6</th><td>Colorado</td><td>CO</td><td>West </td><td>16.9</td></tr>\n",
       "\t<tr><th scope=row>10</th><td>Florida </td><td>FL</td><td>South</td><td>17.6</td></tr>\n",
       "\t<tr><th scope=row>11</th><td>Georgia </td><td>GA</td><td>South</td><td>18.3</td></tr>\n",
       "\t<tr><th scope=row>13</th><td>Idaho   </td><td>ID</td><td>West </td><td>21.1</td></tr>\n",
       "\t<tr><th scope=row>29</th><td>Nevada  </td><td>NV</td><td>West </td><td>35.1</td></tr>\n",
       "</tbody>\n",
       "</table>\n"
      ],
      "text/latex": [
       "A data.frame: 6 × 4\n",
       "\\begin{tabular}{r|llll}\n",
       "  & State & Abb & Region & Change\\\\\n",
       "  & <chr> & <chr> & <fct> & <dbl>\\\\\n",
       "\\hline\n",
       "\t3 & Arizona  & AZ & West  & 24.6\\\\\n",
       "\t6 & Colorado & CO & West  & 16.9\\\\\n",
       "\t10 & Florida  & FL & South & 17.6\\\\\n",
       "\t11 & Georgia  & GA & South & 18.3\\\\\n",
       "\t13 & Idaho    & ID & West  & 21.1\\\\\n",
       "\t29 & Nevada   & NV & West  & 35.1\\\\\n",
       "\\end{tabular}\n"
      ],
      "text/markdown": [
       "\n",
       "A data.frame: 6 × 4\n",
       "\n",
       "| <!--/--> | State &lt;chr&gt; | Abb &lt;chr&gt; | Region &lt;fct&gt; | Change &lt;dbl&gt; |\n",
       "|---|---|---|---|---|\n",
       "| 3 | Arizona  | AZ | West  | 24.6 |\n",
       "| 6 | Colorado | CO | West  | 16.9 |\n",
       "| 10 | Florida  | FL | South | 17.6 |\n",
       "| 11 | Georgia  | GA | South | 18.3 |\n",
       "| 13 | Idaho    | ID | West  | 21.1 |\n",
       "| 29 | Nevada   | NV | West  | 35.1 |\n",
       "\n"
      ],
      "text/plain": [
       "   State    Abb Region Change\n",
       "3  Arizona  AZ  West   24.6  \n",
       "6  Colorado CO  West   16.9  \n",
       "10 Florida  FL  South  17.6  \n",
       "11 Georgia  GA  South  18.3  \n",
       "13 Idaho    ID  West   21.1  \n",
       "29 Nevada   NV  West   35.1  "
      ]
     },
     "metadata": {},
     "output_type": "display_data"
    }
   ],
   "source": [
    "upc = subset(uspopchange, rank(Change) > 40)\n",
    "head(upc)"
   ]
  },
  {
   "cell_type": "code",
   "execution_count": 109,
   "metadata": {},
   "outputs": [],
   "source": [
    "p = ggplot(upc, aes(x = Abb, y = Change, fill = Region)) +\n",
    "    geom_bar(stat = 'identity')"
   ]
  },
  {
   "cell_type": "code",
   "execution_count": 110,
   "metadata": {},
   "outputs": [],
   "source": [
    "ggsave('条形图.png', dpi = 100, plot = p, width = 6, height = 4)"
   ]
  },
  {
   "cell_type": "code",
   "execution_count": null,
   "metadata": {},
   "outputs": [],
   "source": []
  },
  {
   "cell_type": "code",
   "execution_count": 112,
   "metadata": {},
   "outputs": [],
   "source": [
    "p = ggplot(upc, aes(x = reorder(Abb, Change), y = Change, fill = Region)) + \n",
    "    geom_bar(stat = 'identity', colour = 'black') + \n",
    "    scale_fill_manual(values = c('#669933', '#FFCC66')) + \n",
    "    xlab('State')"
   ]
  },
  {
   "cell_type": "code",
   "execution_count": 113,
   "metadata": {},
   "outputs": [],
   "source": [
    "ggsave('条形图2.png', dpi = 100, plot = p, width = 6, height = 4)"
   ]
  },
  {
   "cell_type": "code",
   "execution_count": null,
   "metadata": {},
   "outputs": [],
   "source": []
  },
  {
   "cell_type": "code",
   "execution_count": 114,
   "metadata": {},
   "outputs": [
    {
     "data": {
      "text/html": [
       "<table class=\"dataframe\">\n",
       "<caption>A data.frame: 6 × 2</caption>\n",
       "<thead>\n",
       "\t<tr><th></th><th scope=col>Time</th><th scope=col>demand</th></tr>\n",
       "\t<tr><th></th><th scope=col>&lt;dbl&gt;</th><th scope=col>&lt;dbl&gt;</th></tr>\n",
       "</thead>\n",
       "<tbody>\n",
       "\t<tr><th scope=row>1</th><td>1</td><td> 8.3</td></tr>\n",
       "\t<tr><th scope=row>2</th><td>2</td><td>10.3</td></tr>\n",
       "\t<tr><th scope=row>3</th><td>3</td><td>19.0</td></tr>\n",
       "\t<tr><th scope=row>4</th><td>4</td><td>16.0</td></tr>\n",
       "\t<tr><th scope=row>5</th><td>5</td><td>15.6</td></tr>\n",
       "\t<tr><th scope=row>6</th><td>7</td><td>19.8</td></tr>\n",
       "</tbody>\n",
       "</table>\n"
      ],
      "text/latex": [
       "A data.frame: 6 × 2\n",
       "\\begin{tabular}{r|ll}\n",
       "  & Time & demand\\\\\n",
       "  & <dbl> & <dbl>\\\\\n",
       "\\hline\n",
       "\t1 & 1 &  8.3\\\\\n",
       "\t2 & 2 & 10.3\\\\\n",
       "\t3 & 3 & 19.0\\\\\n",
       "\t4 & 4 & 16.0\\\\\n",
       "\t5 & 5 & 15.6\\\\\n",
       "\t6 & 7 & 19.8\\\\\n",
       "\\end{tabular}\n"
      ],
      "text/markdown": [
       "\n",
       "A data.frame: 6 × 2\n",
       "\n",
       "| <!--/--> | Time &lt;dbl&gt; | demand &lt;dbl&gt; |\n",
       "|---|---|---|\n",
       "| 1 | 1 |  8.3 |\n",
       "| 2 | 2 | 10.3 |\n",
       "| 3 | 3 | 19.0 |\n",
       "| 4 | 4 | 16.0 |\n",
       "| 5 | 5 | 15.6 |\n",
       "| 6 | 7 | 19.8 |\n",
       "\n"
      ],
      "text/plain": [
       "  Time demand\n",
       "1 1     8.3  \n",
       "2 2    10.3  \n",
       "3 3    19.0  \n",
       "4 4    16.0  \n",
       "5 5    15.6  \n",
       "6 7    19.8  "
      ]
     },
     "metadata": {},
     "output_type": "display_data"
    }
   ],
   "source": [
    "head(BOD)"
   ]
  },
  {
   "cell_type": "code",
   "execution_count": 115,
   "metadata": {},
   "outputs": [
    {
     "data": {
      "image/png": "[encoded data removed]",
      "text/plain": [
       "plot without title"
      ]
     },
     "metadata": {
      "image/png": {
       "height": 420,
       "width": 420
      }
     },
     "output_type": "display_data"
    }
   ],
   "source": [
    "p = ggplot(BOD, aes(x = Time, y = demand)) + \n",
    "    geom_bar(stat = 'identity')"
   ]
  },
  {
   "cell_type": "code",
   "execution_count": 116,
   "metadata": {},
   "outputs": [],
   "source": [
    "ggsave('条形图3.png', dpi = 100, plot = p, width = 6, height = 4)"
   ]
  },
  {
   "cell_type": "code",
   "execution_count": null,
   "metadata": {},
   "outputs": [],
   "source": []
  },
  {
   "cell_type": "code",
   "execution_count": 117,
   "metadata": {},
   "outputs": [
    {
     "data": {
      "text/html": [
       "<table class=\"dataframe\">\n",
       "<caption>A data.frame: 3 × 2</caption>\n",
       "<thead>\n",
       "\t<tr><th></th><th scope=col>group</th><th scope=col>weight</th></tr>\n",
       "\t<tr><th></th><th scope=col>&lt;fct&gt;</th><th scope=col>&lt;dbl&gt;</th></tr>\n",
       "</thead>\n",
       "<tbody>\n",
       "\t<tr><th scope=row>1</th><td>ctrl</td><td>5.032</td></tr>\n",
       "\t<tr><th scope=row>2</th><td>trt1</td><td>4.661</td></tr>\n",
       "\t<tr><th scope=row>3</th><td>trt2</td><td>5.526</td></tr>\n",
       "</tbody>\n",
       "</table>\n"
      ],
      "text/latex": [
       "A data.frame: 3 × 2\n",
       "\\begin{tabular}{r|ll}\n",
       "  & group & weight\\\\\n",
       "  & <fct> & <dbl>\\\\\n",
       "\\hline\n",
       "\t1 & ctrl & 5.032\\\\\n",
       "\t2 & trt1 & 4.661\\\\\n",
       "\t3 & trt2 & 5.526\\\\\n",
       "\\end{tabular}\n"
      ],
      "text/markdown": [
       "\n",
       "A data.frame: 3 × 2\n",
       "\n",
       "| <!--/--> | group &lt;fct&gt; | weight &lt;dbl&gt; |\n",
       "|---|---|---|\n",
       "| 1 | ctrl | 5.032 |\n",
       "| 2 | trt1 | 4.661 |\n",
       "| 3 | trt2 | 5.526 |\n",
       "\n"
      ],
      "text/plain": [
       "  group weight\n",
       "1 ctrl  5.032 \n",
       "2 trt1  4.661 \n",
       "3 trt2  5.526 "
      ]
     },
     "metadata": {},
     "output_type": "display_data"
    }
   ],
   "source": [
    "head(pg_mean)"
   ]
  },
  {
   "cell_type": "code",
   "execution_count": 119,
   "metadata": {},
   "outputs": [],
   "source": [
    "p = ggplot(pg_mean, aes(x = group, y = weight)) + \n",
    "    geom_bar(stat = 'identity', width = 0.5)"
   ]
  },
  {
   "cell_type": "code",
   "execution_count": 120,
   "metadata": {},
   "outputs": [],
   "source": [
    "ggsave('条形图4.png', dpi = 100, plot = p, width = 6, height = 4)"
   ]
  },
  {
   "cell_type": "code",
   "execution_count": null,
   "metadata": {},
   "outputs": [],
   "source": []
  },
  {
   "cell_type": "code",
   "execution_count": 121,
   "metadata": {},
   "outputs": [
    {
     "data": {
      "text/html": [
       "<table class=\"dataframe\">\n",
       "<caption>A data.frame: 6 × 6</caption>\n",
       "<thead>\n",
       "\t<tr><th></th><th scope=col>Cultivar</th><th scope=col>Date</th><th scope=col>Weight</th><th scope=col>sd</th><th scope=col>n</th><th scope=col>se</th></tr>\n",
       "\t<tr><th></th><th scope=col>&lt;fct&gt;</th><th scope=col>&lt;fct&gt;</th><th scope=col>&lt;dbl&gt;</th><th scope=col>&lt;dbl&gt;</th><th scope=col>&lt;int&gt;</th><th scope=col>&lt;dbl&gt;</th></tr>\n",
       "</thead>\n",
       "<tbody>\n",
       "\t<tr><th scope=row>1</th><td>c39</td><td>d16</td><td>3.18</td><td>0.9566144</td><td>10</td><td>0.30250803</td></tr>\n",
       "\t<tr><th scope=row>2</th><td>c39</td><td>d20</td><td>2.80</td><td>0.2788867</td><td>10</td><td>0.08819171</td></tr>\n",
       "\t<tr><th scope=row>3</th><td>c39</td><td>d21</td><td>2.74</td><td>0.9834181</td><td>10</td><td>0.31098410</td></tr>\n",
       "\t<tr><th scope=row>4</th><td>c52</td><td>d16</td><td>2.26</td><td>0.4452215</td><td>10</td><td>0.14079141</td></tr>\n",
       "\t<tr><th scope=row>5</th><td>c52</td><td>d20</td><td>3.11</td><td>0.7908505</td><td>10</td><td>0.25008887</td></tr>\n",
       "\t<tr><th scope=row>6</th><td>c52</td><td>d21</td><td>1.47</td><td>0.2110819</td><td>10</td><td>0.06674995</td></tr>\n",
       "</tbody>\n",
       "</table>\n"
      ],
      "text/latex": [
       "A data.frame: 6 × 6\n",
       "\\begin{tabular}{r|llllll}\n",
       "  & Cultivar & Date & Weight & sd & n & se\\\\\n",
       "  & <fct> & <fct> & <dbl> & <dbl> & <int> & <dbl>\\\\\n",
       "\\hline\n",
       "\t1 & c39 & d16 & 3.18 & 0.9566144 & 10 & 0.30250803\\\\\n",
       "\t2 & c39 & d20 & 2.80 & 0.2788867 & 10 & 0.08819171\\\\\n",
       "\t3 & c39 & d21 & 2.74 & 0.9834181 & 10 & 0.31098410\\\\\n",
       "\t4 & c52 & d16 & 2.26 & 0.4452215 & 10 & 0.14079141\\\\\n",
       "\t5 & c52 & d20 & 3.11 & 0.7908505 & 10 & 0.25008887\\\\\n",
       "\t6 & c52 & d21 & 1.47 & 0.2110819 & 10 & 0.06674995\\\\\n",
       "\\end{tabular}\n"
      ],
      "text/markdown": [
       "\n",
       "A data.frame: 6 × 6\n",
       "\n",
       "| <!--/--> | Cultivar &lt;fct&gt; | Date &lt;fct&gt; | Weight &lt;dbl&gt; | sd &lt;dbl&gt; | n &lt;int&gt; | se &lt;dbl&gt; |\n",
       "|---|---|---|---|---|---|---|\n",
       "| 1 | c39 | d16 | 3.18 | 0.9566144 | 10 | 0.30250803 |\n",
       "| 2 | c39 | d20 | 2.80 | 0.2788867 | 10 | 0.08819171 |\n",
       "| 3 | c39 | d21 | 2.74 | 0.9834181 | 10 | 0.31098410 |\n",
       "| 4 | c52 | d16 | 2.26 | 0.4452215 | 10 | 0.14079141 |\n",
       "| 5 | c52 | d20 | 3.11 | 0.7908505 | 10 | 0.25008887 |\n",
       "| 6 | c52 | d21 | 1.47 | 0.2110819 | 10 | 0.06674995 |\n",
       "\n"
      ],
      "text/plain": [
       "  Cultivar Date Weight sd        n  se        \n",
       "1 c39      d16  3.18   0.9566144 10 0.30250803\n",
       "2 c39      d20  2.80   0.2788867 10 0.08819171\n",
       "3 c39      d21  2.74   0.9834181 10 0.31098410\n",
       "4 c52      d16  2.26   0.4452215 10 0.14079141\n",
       "5 c52      d20  3.11   0.7908505 10 0.25008887\n",
       "6 c52      d21  1.47   0.2110819 10 0.06674995"
      ]
     },
     "metadata": {},
     "output_type": "display_data"
    }
   ],
   "source": [
    "library(gcookbook)\n",
    "head(cabbage_exp)"
   ]
  },
  {
   "cell_type": "code",
   "execution_count": 122,
   "metadata": {},
   "outputs": [
    {
     "data": {
      "text/html": [
       "<table class=\"dataframe\">\n",
       "<caption>A data.frame: 6 × 7</caption>\n",
       "<thead>\n",
       "\t<tr><th></th><th scope=col>Cultivar</th><th scope=col>Date</th><th scope=col>Weight</th><th scope=col>sd</th><th scope=col>n</th><th scope=col>se</th><th scope=col>percent_weight</th></tr>\n",
       "\t<tr><th></th><th scope=col>&lt;fct&gt;</th><th scope=col>&lt;fct&gt;</th><th scope=col>&lt;dbl&gt;</th><th scope=col>&lt;dbl&gt;</th><th scope=col>&lt;int&gt;</th><th scope=col>&lt;dbl&gt;</th><th scope=col>&lt;dbl&gt;</th></tr>\n",
       "</thead>\n",
       "<tbody>\n",
       "\t<tr><th scope=row>1</th><td>c39</td><td>d16</td><td>3.18</td><td>0.9566144</td><td>10</td><td>0.30250803</td><td>58.45588</td></tr>\n",
       "\t<tr><th scope=row>2</th><td>c52</td><td>d16</td><td>2.26</td><td>0.4452215</td><td>10</td><td>0.14079141</td><td>41.54412</td></tr>\n",
       "\t<tr><th scope=row>3</th><td>c39</td><td>d20</td><td>2.80</td><td>0.2788867</td><td>10</td><td>0.08819171</td><td>47.37733</td></tr>\n",
       "\t<tr><th scope=row>4</th><td>c52</td><td>d20</td><td>3.11</td><td>0.7908505</td><td>10</td><td>0.25008887</td><td>52.62267</td></tr>\n",
       "\t<tr><th scope=row>5</th><td>c39</td><td>d21</td><td>2.74</td><td>0.9834181</td><td>10</td><td>0.31098410</td><td>65.08314</td></tr>\n",
       "\t<tr><th scope=row>6</th><td>c52</td><td>d21</td><td>1.47</td><td>0.2110819</td><td>10</td><td>0.06674995</td><td>34.91686</td></tr>\n",
       "</tbody>\n",
       "</table>\n"
      ],
      "text/latex": [
       "A data.frame: 6 × 7\n",
       "\\begin{tabular}{r|lllllll}\n",
       "  & Cultivar & Date & Weight & sd & n & se & percent\\_weight\\\\\n",
       "  & <fct> & <fct> & <dbl> & <dbl> & <int> & <dbl> & <dbl>\\\\\n",
       "\\hline\n",
       "\t1 & c39 & d16 & 3.18 & 0.9566144 & 10 & 0.30250803 & 58.45588\\\\\n",
       "\t2 & c52 & d16 & 2.26 & 0.4452215 & 10 & 0.14079141 & 41.54412\\\\\n",
       "\t3 & c39 & d20 & 2.80 & 0.2788867 & 10 & 0.08819171 & 47.37733\\\\\n",
       "\t4 & c52 & d20 & 3.11 & 0.7908505 & 10 & 0.25008887 & 52.62267\\\\\n",
       "\t5 & c39 & d21 & 2.74 & 0.9834181 & 10 & 0.31098410 & 65.08314\\\\\n",
       "\t6 & c52 & d21 & 1.47 & 0.2110819 & 10 & 0.06674995 & 34.91686\\\\\n",
       "\\end{tabular}\n"
      ],
      "text/markdown": [
       "\n",
       "A data.frame: 6 × 7\n",
       "\n",
       "| <!--/--> | Cultivar &lt;fct&gt; | Date &lt;fct&gt; | Weight &lt;dbl&gt; | sd &lt;dbl&gt; | n &lt;int&gt; | se &lt;dbl&gt; | percent_weight &lt;dbl&gt; |\n",
       "|---|---|---|---|---|---|---|---|\n",
       "| 1 | c39 | d16 | 3.18 | 0.9566144 | 10 | 0.30250803 | 58.45588 |\n",
       "| 2 | c52 | d16 | 2.26 | 0.4452215 | 10 | 0.14079141 | 41.54412 |\n",
       "| 3 | c39 | d20 | 2.80 | 0.2788867 | 10 | 0.08819171 | 47.37733 |\n",
       "| 4 | c52 | d20 | 3.11 | 0.7908505 | 10 | 0.25008887 | 52.62267 |\n",
       "| 5 | c39 | d21 | 2.74 | 0.9834181 | 10 | 0.31098410 | 65.08314 |\n",
       "| 6 | c52 | d21 | 1.47 | 0.2110819 | 10 | 0.06674995 | 34.91686 |\n",
       "\n"
      ],
      "text/plain": [
       "  Cultivar Date Weight sd        n  se         percent_weight\n",
       "1 c39      d16  3.18   0.9566144 10 0.30250803 58.45588      \n",
       "2 c52      d16  2.26   0.4452215 10 0.14079141 41.54412      \n",
       "3 c39      d20  2.80   0.2788867 10 0.08819171 47.37733      \n",
       "4 c52      d20  3.11   0.7908505 10 0.25008887 52.62267      \n",
       "5 c39      d21  2.74   0.9834181 10 0.31098410 65.08314      \n",
       "6 c52      d21  1.47   0.2110819 10 0.06674995 34.91686      "
      ]
     },
     "metadata": {},
     "output_type": "display_data"
    }
   ],
   "source": [
    "library(plyr)\n",
    "ce = ddply(cabbage_exp, 'Date', transform, \n",
    "          percent_weight = Weight / sum(Weight) * 100)\n",
    "head(ce)"
   ]
  },
  {
   "cell_type": "code",
   "execution_count": 124,
   "metadata": {},
   "outputs": [],
   "source": [
    "p = ggplot(ce, aes(x = Date, y = percent_weight, fill = Cultivar)) + \n",
    "    geom_bar(stat = 'identity')"
   ]
  },
  {
   "cell_type": "code",
   "execution_count": 125,
   "metadata": {},
   "outputs": [],
   "source": [
    "ggsave('百分比堆积条形图.png', dpi = 100, plot = p, width = 6, height = 4)"
   ]
  },
  {
   "cell_type": "code",
   "execution_count": null,
   "metadata": {},
   "outputs": [],
   "source": []
  },
  {
   "cell_type": "code",
   "execution_count": 126,
   "metadata": {},
   "outputs": [
    {
     "data": {
      "text/html": [
       "<table class=\"dataframe\">\n",
       "<caption>A data.frame: 6 × 6</caption>\n",
       "<thead>\n",
       "\t<tr><th></th><th scope=col>Cultivar</th><th scope=col>Date</th><th scope=col>Weight</th><th scope=col>sd</th><th scope=col>n</th><th scope=col>se</th></tr>\n",
       "\t<tr><th></th><th scope=col>&lt;fct&gt;</th><th scope=col>&lt;fct&gt;</th><th scope=col>&lt;dbl&gt;</th><th scope=col>&lt;dbl&gt;</th><th scope=col>&lt;int&gt;</th><th scope=col>&lt;dbl&gt;</th></tr>\n",
       "</thead>\n",
       "<tbody>\n",
       "\t<tr><th scope=row>1</th><td>c39</td><td>d16</td><td>3.18</td><td>0.9566144</td><td>10</td><td>0.30250803</td></tr>\n",
       "\t<tr><th scope=row>2</th><td>c39</td><td>d20</td><td>2.80</td><td>0.2788867</td><td>10</td><td>0.08819171</td></tr>\n",
       "\t<tr><th scope=row>3</th><td>c39</td><td>d21</td><td>2.74</td><td>0.9834181</td><td>10</td><td>0.31098410</td></tr>\n",
       "\t<tr><th scope=row>4</th><td>c52</td><td>d16</td><td>2.26</td><td>0.4452215</td><td>10</td><td>0.14079141</td></tr>\n",
       "\t<tr><th scope=row>5</th><td>c52</td><td>d20</td><td>3.11</td><td>0.7908505</td><td>10</td><td>0.25008887</td></tr>\n",
       "\t<tr><th scope=row>6</th><td>c52</td><td>d21</td><td>1.47</td><td>0.2110819</td><td>10</td><td>0.06674995</td></tr>\n",
       "</tbody>\n",
       "</table>\n"
      ],
      "text/latex": [
       "A data.frame: 6 × 6\n",
       "\\begin{tabular}{r|llllll}\n",
       "  & Cultivar & Date & Weight & sd & n & se\\\\\n",
       "  & <fct> & <fct> & <dbl> & <dbl> & <int> & <dbl>\\\\\n",
       "\\hline\n",
       "\t1 & c39 & d16 & 3.18 & 0.9566144 & 10 & 0.30250803\\\\\n",
       "\t2 & c39 & d20 & 2.80 & 0.2788867 & 10 & 0.08819171\\\\\n",
       "\t3 & c39 & d21 & 2.74 & 0.9834181 & 10 & 0.31098410\\\\\n",
       "\t4 & c52 & d16 & 2.26 & 0.4452215 & 10 & 0.14079141\\\\\n",
       "\t5 & c52 & d20 & 3.11 & 0.7908505 & 10 & 0.25008887\\\\\n",
       "\t6 & c52 & d21 & 1.47 & 0.2110819 & 10 & 0.06674995\\\\\n",
       "\\end{tabular}\n"
      ],
      "text/markdown": [
       "\n",
       "A data.frame: 6 × 6\n",
       "\n",
       "| <!--/--> | Cultivar &lt;fct&gt; | Date &lt;fct&gt; | Weight &lt;dbl&gt; | sd &lt;dbl&gt; | n &lt;int&gt; | se &lt;dbl&gt; |\n",
       "|---|---|---|---|---|---|---|\n",
       "| 1 | c39 | d16 | 3.18 | 0.9566144 | 10 | 0.30250803 |\n",
       "| 2 | c39 | d20 | 2.80 | 0.2788867 | 10 | 0.08819171 |\n",
       "| 3 | c39 | d21 | 2.74 | 0.9834181 | 10 | 0.31098410 |\n",
       "| 4 | c52 | d16 | 2.26 | 0.4452215 | 10 | 0.14079141 |\n",
       "| 5 | c52 | d20 | 3.11 | 0.7908505 | 10 | 0.25008887 |\n",
       "| 6 | c52 | d21 | 1.47 | 0.2110819 | 10 | 0.06674995 |\n",
       "\n"
      ],
      "text/plain": [
       "  Cultivar Date Weight sd        n  se        \n",
       "1 c39      d16  3.18   0.9566144 10 0.30250803\n",
       "2 c39      d20  2.80   0.2788867 10 0.08819171\n",
       "3 c39      d21  2.74   0.9834181 10 0.31098410\n",
       "4 c52      d16  2.26   0.4452215 10 0.14079141\n",
       "5 c52      d20  3.11   0.7908505 10 0.25008887\n",
       "6 c52      d21  1.47   0.2110819 10 0.06674995"
      ]
     },
     "metadata": {},
     "output_type": "display_data"
    }
   ],
   "source": [
    "library(gcookbook)\n",
    "head(cabbage_exp)"
   ]
  },
  {
   "cell_type": "code",
   "execution_count": 128,
   "metadata": {},
   "outputs": [],
   "source": [
    "p = ggplot(cabbage_exp, aes(x = Date, y = Weight, fill = Cultivar)) + \n",
    "    geom_bar(position = 'dodge', stat = 'identity')"
   ]
  },
  {
   "cell_type": "code",
   "execution_count": 129,
   "metadata": {},
   "outputs": [],
   "source": [
    "ggsave('簇状条形图.png', dpi = 100, plot = p, width = 6, height = 4)"
   ]
  },
  {
   "cell_type": "code",
   "execution_count": null,
   "metadata": {},
   "outputs": [],
   "source": []
  },
  {
   "cell_type": "code",
   "execution_count": 131,
   "metadata": {},
   "outputs": [
    {
     "name": "stderr",
     "output_type": "stream",
     "text": [
      "Warning message in pal_name(palette, type):\n",
      "\"Unknown palette Pastell\"\n"
     ]
    }
   ],
   "source": [
    "library(RColorBrewer)\n",
    "p = ggplot(cabbage_exp, aes(x = Date, y = Weight, fill = Cultivar)) + \n",
    "    geom_bar(position = 'dodge', stat = 'identity', colour = 'black') + \n",
    "    scale_fill_brewer(palette = 'Pastell')"
   ]
  },
  {
   "cell_type": "code",
   "execution_count": 132,
   "metadata": {},
   "outputs": [],
   "source": [
    "ggsave('簇状条形图2.png', dpi = 100, plot = p, width = 6, height = 4)"
   ]
  },
  {
   "cell_type": "code",
   "execution_count": null,
   "metadata": {},
   "outputs": [],
   "source": []
  },
  {
   "cell_type": "code",
   "execution_count": 134,
   "metadata": {},
   "outputs": [],
   "source": [
    "p = ggplot(cabbage_exp, aes(x = Date, y = Weight, fill = Cultivar)) + \n",
    "    geom_bar(stat = 'identity')"
   ]
  },
  {
   "cell_type": "code",
   "execution_count": 135,
   "metadata": {},
   "outputs": [],
   "source": [
    "ggsave('堆积条形图.png', dpi = 100, plot = p, width = 6, height = 4)"
   ]
  },
  {
   "cell_type": "code",
   "execution_count": null,
   "metadata": {},
   "outputs": [],
   "source": []
  },
  {
   "cell_type": "code",
   "execution_count": 137,
   "metadata": {},
   "outputs": [],
   "source": [
    "p = ggplot(cabbage_exp, aes(x = Date, y = Weight, fill = Cultivar)) + \n",
    "    geom_bar(stat = 'identity') + \n",
    "    guides(fill = guide_legend(reverse = TRUE))"
   ]
  },
  {
   "cell_type": "code",
   "execution_count": 138,
   "metadata": {},
   "outputs": [],
   "source": [
    "ggsave('堆积条形图2.png', dpi = 100, plot = p, width = 6, height = 4)"
   ]
  },
  {
   "cell_type": "markdown",
   "metadata": {},
   "source": [
    "# geom_boxplot()"
   ]
  },
  {
   "cell_type": "code",
   "execution_count": 36,
   "metadata": {},
   "outputs": [
    {
     "data": {
      "text/html": [
       "<table class=\"dataframe\">\n",
       "<caption>A data.frame: 6 × 3</caption>\n",
       "<thead>\n",
       "\t<tr><th></th><th scope=col>len</th><th scope=col>supp</th><th scope=col>dose</th></tr>\n",
       "\t<tr><th></th><th scope=col>&lt;dbl&gt;</th><th scope=col>&lt;fct&gt;</th><th scope=col>&lt;dbl&gt;</th></tr>\n",
       "</thead>\n",
       "<tbody>\n",
       "\t<tr><th scope=row>1</th><td> 4.2</td><td>VC</td><td>0.5</td></tr>\n",
       "\t<tr><th scope=row>2</th><td>11.5</td><td>VC</td><td>0.5</td></tr>\n",
       "\t<tr><th scope=row>3</th><td> 7.3</td><td>VC</td><td>0.5</td></tr>\n",
       "\t<tr><th scope=row>4</th><td> 5.8</td><td>VC</td><td>0.5</td></tr>\n",
       "\t<tr><th scope=row>5</th><td> 6.4</td><td>VC</td><td>0.5</td></tr>\n",
       "\t<tr><th scope=row>6</th><td>10.0</td><td>VC</td><td>0.5</td></tr>\n",
       "</tbody>\n",
       "</table>\n"
      ],
      "text/latex": [
       "A data.frame: 6 × 3\n",
       "\\begin{tabular}{r|lll}\n",
       "  & len & supp & dose\\\\\n",
       "  & <dbl> & <fct> & <dbl>\\\\\n",
       "\\hline\n",
       "\t1 &  4.2 & VC & 0.5\\\\\n",
       "\t2 & 11.5 & VC & 0.5\\\\\n",
       "\t3 &  7.3 & VC & 0.5\\\\\n",
       "\t4 &  5.8 & VC & 0.5\\\\\n",
       "\t5 &  6.4 & VC & 0.5\\\\\n",
       "\t6 & 10.0 & VC & 0.5\\\\\n",
       "\\end{tabular}\n"
      ],
      "text/markdown": [
       "\n",
       "A data.frame: 6 × 3\n",
       "\n",
       "| <!--/--> | len &lt;dbl&gt; | supp &lt;fct&gt; | dose &lt;dbl&gt; |\n",
       "|---|---|---|---|\n",
       "| 1 |  4.2 | VC | 0.5 |\n",
       "| 2 | 11.5 | VC | 0.5 |\n",
       "| 3 |  7.3 | VC | 0.5 |\n",
       "| 4 |  5.8 | VC | 0.5 |\n",
       "| 5 |  6.4 | VC | 0.5 |\n",
       "| 6 | 10.0 | VC | 0.5 |\n",
       "\n"
      ],
      "text/plain": [
       "  len  supp dose\n",
       "1  4.2 VC   0.5 \n",
       "2 11.5 VC   0.5 \n",
       "3  7.3 VC   0.5 \n",
       "4  5.8 VC   0.5 \n",
       "5  6.4 VC   0.5 \n",
       "6 10.0 VC   0.5 "
      ]
     },
     "metadata": {},
     "output_type": "display_data"
    }
   ],
   "source": [
    "head(ToothGrowth)"
   ]
  },
  {
   "cell_type": "code",
   "execution_count": 38,
   "metadata": {},
   "outputs": [],
   "source": [
    "library(ggplot2)\n",
    "\n",
    "p = ggplot(ToothGrowth, aes(x = supp, y = len)) + geom_boxplot()"
   ]
  },
  {
   "cell_type": "code",
   "execution_count": 39,
   "metadata": {},
   "outputs": [],
   "source": [
    "ggsave('箱线图.png', dpi = 100, plot = p, width = 6, height = 4)"
   ]
  },
  {
   "cell_type": "code",
   "execution_count": 41,
   "metadata": {},
   "outputs": [],
   "source": [
    "p = ggplot(ToothGrowth, aes(x = interaction(supp, dose), y = len)) + \n",
    "    geom_boxplot()"
   ]
  },
  {
   "cell_type": "code",
   "execution_count": 42,
   "metadata": {},
   "outputs": [],
   "source": [
    "ggsave('多分组变量箱线图.png', dpi = 100, plot = p, width = 6, height = 4)"
   ]
  },
  {
   "cell_type": "code",
   "execution_count": null,
   "metadata": {},
   "outputs": [],
   "source": []
  },
  {
   "cell_type": "code",
   "execution_count": 43,
   "metadata": {},
   "outputs": [
    {
     "data": {
      "text/html": [
       "<table class=\"dataframe\">\n",
       "<caption>A nfnGroupedData: 6 × 4</caption>\n",
       "<thead>\n",
       "\t<tr><th></th><th scope=col>weight</th><th scope=col>Time</th><th scope=col>Chick</th><th scope=col>Diet</th></tr>\n",
       "\t<tr><th></th><th scope=col>&lt;dbl&gt;</th><th scope=col>&lt;dbl&gt;</th><th scope=col>&lt;ord&gt;</th><th scope=col>&lt;fct&gt;</th></tr>\n",
       "</thead>\n",
       "<tbody>\n",
       "\t<tr><th scope=row>1</th><td>42</td><td> 0</td><td>1</td><td>1</td></tr>\n",
       "\t<tr><th scope=row>2</th><td>51</td><td> 2</td><td>1</td><td>1</td></tr>\n",
       "\t<tr><th scope=row>3</th><td>59</td><td> 4</td><td>1</td><td>1</td></tr>\n",
       "\t<tr><th scope=row>4</th><td>64</td><td> 6</td><td>1</td><td>1</td></tr>\n",
       "\t<tr><th scope=row>5</th><td>76</td><td> 8</td><td>1</td><td>1</td></tr>\n",
       "\t<tr><th scope=row>6</th><td>93</td><td>10</td><td>1</td><td>1</td></tr>\n",
       "</tbody>\n",
       "</table>\n"
      ],
      "text/latex": [
       "A nfnGroupedData: 6 × 4\n",
       "\\begin{tabular}{r|llll}\n",
       "  & weight & Time & Chick & Diet\\\\\n",
       "  & <dbl> & <dbl> & <ord> & <fct>\\\\\n",
       "\\hline\n",
       "\t1 & 42 &  0 & 1 & 1\\\\\n",
       "\t2 & 51 &  2 & 1 & 1\\\\\n",
       "\t3 & 59 &  4 & 1 & 1\\\\\n",
       "\t4 & 64 &  6 & 1 & 1\\\\\n",
       "\t5 & 76 &  8 & 1 & 1\\\\\n",
       "\t6 & 93 & 10 & 1 & 1\\\\\n",
       "\\end{tabular}\n"
      ],
      "text/markdown": [
       "\n",
       "A nfnGroupedData: 6 × 4\n",
       "\n",
       "| <!--/--> | weight &lt;dbl&gt; | Time &lt;dbl&gt; | Chick &lt;ord&gt; | Diet &lt;fct&gt; |\n",
       "|---|---|---|---|---|\n",
       "| 1 | 42 |  0 | 1 | 1 |\n",
       "| 2 | 51 |  2 | 1 | 1 |\n",
       "| 3 | 59 |  4 | 1 | 1 |\n",
       "| 4 | 64 |  6 | 1 | 1 |\n",
       "| 5 | 76 |  8 | 1 | 1 |\n",
       "| 6 | 93 | 10 | 1 | 1 |\n",
       "\n"
      ],
      "text/plain": [
       "  weight Time Chick Diet\n",
       "1 42      0   1     1   \n",
       "2 51      2   1     1   \n",
       "3 59      4   1     1   \n",
       "4 64      6   1     1   \n",
       "5 76      8   1     1   \n",
       "6 93     10   1     1   "
      ]
     },
     "metadata": {},
     "output_type": "display_data"
    }
   ],
   "source": [
    "head(ChickWeight)"
   ]
  },
  {
   "cell_type": "code",
   "execution_count": 45,
   "metadata": {},
   "outputs": [],
   "source": [
    "p = ggplot(ChickWeight, aes(x = Time, y = weight)) + \n",
    "    geom_boxplot(aes(group = Time))"
   ]
  },
  {
   "cell_type": "code",
   "execution_count": 46,
   "metadata": {},
   "outputs": [],
   "source": [
    "ggsave('分组变量箱线图.png', dpi = 100, plot = p, width = 6, height = 4)"
   ]
  },
  {
   "cell_type": "code",
   "execution_count": null,
   "metadata": {},
   "outputs": [],
   "source": []
  },
  {
   "cell_type": "markdown",
   "metadata": {},
   "source": [
    "# geom_rug()"
   ]
  },
  {
   "cell_type": "code",
   "execution_count": 47,
   "metadata": {},
   "outputs": [
    {
     "data": {
      "text/html": [
       "<table class=\"dataframe\">\n",
       "<caption>A data.frame: 6 × 2</caption>\n",
       "<thead>\n",
       "\t<tr><th></th><th scope=col>eruptions</th><th scope=col>waiting</th></tr>\n",
       "\t<tr><th></th><th scope=col>&lt;dbl&gt;</th><th scope=col>&lt;dbl&gt;</th></tr>\n",
       "</thead>\n",
       "<tbody>\n",
       "\t<tr><th scope=row>1</th><td>3.600</td><td>79</td></tr>\n",
       "\t<tr><th scope=row>2</th><td>1.800</td><td>54</td></tr>\n",
       "\t<tr><th scope=row>3</th><td>3.333</td><td>74</td></tr>\n",
       "\t<tr><th scope=row>4</th><td>2.283</td><td>62</td></tr>\n",
       "\t<tr><th scope=row>5</th><td>4.533</td><td>85</td></tr>\n",
       "\t<tr><th scope=row>6</th><td>2.883</td><td>55</td></tr>\n",
       "</tbody>\n",
       "</table>\n"
      ],
      "text/latex": [
       "A data.frame: 6 × 2\n",
       "\\begin{tabular}{r|ll}\n",
       "  & eruptions & waiting\\\\\n",
       "  & <dbl> & <dbl>\\\\\n",
       "\\hline\n",
       "\t1 & 3.600 & 79\\\\\n",
       "\t2 & 1.800 & 54\\\\\n",
       "\t3 & 3.333 & 74\\\\\n",
       "\t4 & 2.283 & 62\\\\\n",
       "\t5 & 4.533 & 85\\\\\n",
       "\t6 & 2.883 & 55\\\\\n",
       "\\end{tabular}\n"
      ],
      "text/markdown": [
       "\n",
       "A data.frame: 6 × 2\n",
       "\n",
       "| <!--/--> | eruptions &lt;dbl&gt; | waiting &lt;dbl&gt; |\n",
       "|---|---|---|\n",
       "| 1 | 3.600 | 79 |\n",
       "| 2 | 1.800 | 54 |\n",
       "| 3 | 3.333 | 74 |\n",
       "| 4 | 2.283 | 62 |\n",
       "| 5 | 4.533 | 85 |\n",
       "| 6 | 2.883 | 55 |\n",
       "\n"
      ],
      "text/plain": [
       "  eruptions waiting\n",
       "1 3.600     79     \n",
       "2 1.800     54     \n",
       "3 3.333     74     \n",
       "4 2.283     62     \n",
       "5 4.533     85     \n",
       "6 2.883     55     "
      ]
     },
     "metadata": {},
     "output_type": "display_data"
    }
   ],
   "source": [
    "head(faithful)"
   ]
  },
  {
   "cell_type": "code",
   "execution_count": 50,
   "metadata": {},
   "outputs": [],
   "source": [
    "library(ggplot2)\n",
    "\n",
    "p = ggplot(faithful, aes(x = eruptions, y = waiting)) + \n",
    "    geom_point() + geom_rug()"
   ]
  },
  {
   "cell_type": "code",
   "execution_count": 51,
   "metadata": {},
   "outputs": [],
   "source": [
    "ggsave('点图添加边际地毯.png', dpi = 100, plot = p, width = 6, height = 4)"
   ]
  },
  {
   "cell_type": "code",
   "execution_count": null,
   "metadata": {},
   "outputs": [],
   "source": []
  },
  {
   "cell_type": "code",
   "execution_count": 53,
   "metadata": {},
   "outputs": [],
   "source": [
    "p = ggplot(faithful, aes(x = eruptions, y = waiting)) + \n",
    "    geom_point() + \n",
    "    geom_rug(position = 'jitter', size = .2)"
   ]
  },
  {
   "cell_type": "code",
   "execution_count": 54,
   "metadata": {},
   "outputs": [],
   "source": [
    "ggsave('点图添加边际地毯2.png', dpi = 100, plot = p, width = 6, height = 4)"
   ]
  },
  {
   "cell_type": "code",
   "execution_count": null,
   "metadata": {},
   "outputs": [],
   "source": []
  },
  {
   "cell_type": "markdown",
   "metadata": {},
   "source": [
    "# qplot()"
   ]
  },
  {
   "cell_type": "code",
   "execution_count": 58,
   "metadata": {},
   "outputs": [],
   "source": [
    "myfun = function(xvar){\n",
    "    1 / (1 + exp(-xvar + 10))\n",
    "}\n",
    "\n",
    "library(ggplot2)\n",
    "p = ggplot(data.frame(x = c(0, 20)), aes(x = x)) + \n",
    "    stat_function(fun = myfun, geom = 'line')"
   ]
  },
  {
   "cell_type": "code",
   "execution_count": 59,
   "metadata": {},
   "outputs": [],
   "source": [
    "ggsave('函数图像.png', dpi = 100, plot = p, width = 6, height = 4)"
   ]
  },
  {
   "cell_type": "code",
   "execution_count": null,
   "metadata": {},
   "outputs": [],
   "source": []
  }
 ],
 "metadata": {
  "kernelspec": {
   "display_name": "R 4.0.4",
   "language": "R",
   "name": "ir404"
  },
  "language_info": {
   "codemirror_mode": "r",
   "file_extension": ".r",
   "mimetype": "text/x-r-source",
   "name": "R",
   "pygments_lexer": "r",
   "version": "4.0.4"
  },
  "toc-autonumbering": true
 },
 "nbformat": 4,
 "nbformat_minor": 2
}
