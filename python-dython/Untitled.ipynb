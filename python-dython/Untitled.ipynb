{
 "cells": [
  {
   "cell_type": "code",
   "execution_count": 1,
   "metadata": {},
   "outputs": [
    {
     "name": "stdout",
     "output_type": "stream",
     "text": [
      "Collecting dython\n",
      "  Downloading dython-0.6.7-py3-none-any.whl (19 kB)\n",
      "Requirement already satisfied: pandas>=0.23.4 in c:\\users\\stwan\\anaconda3\\lib\\site-packages (from dython) (0.24.2)\n",
      "Requirement already satisfied: numpy in c:\\users\\stwan\\anaconda3\\lib\\site-packages (from dython) (1.16.2)\n",
      "Requirement already satisfied: seaborn in c:\\users\\stwan\\anaconda3\\lib\\site-packages (from dython) (0.11.1)\n",
      "Requirement already satisfied: matplotlib in c:\\users\\stwan\\anaconda3\\lib\\site-packages (from dython) (3.0.3)\n",
      "Collecting scikit-plot>=0.3.7\n",
      "  Downloading scikit_plot-0.3.7-py3-none-any.whl (33 kB)\n",
      "Requirement already satisfied: scikit-learn in c:\\users\\stwan\\anaconda3\\lib\\site-packages (from dython) (0.22.2.post1)\n",
      "Requirement already satisfied: scipy in c:\\users\\stwan\\anaconda3\\lib\\site-packages (from dython) (1.2.1)\n",
      "Requirement already satisfied: pytz>=2011k in c:\\users\\stwan\\anaconda3\\lib\\site-packages (from pandas>=0.23.4->dython) (2018.9)\n",
      "Requirement already satisfied: python-dateutil>=2.5.0 in c:\\users\\stwan\\anaconda3\\lib\\site-packages (from pandas>=0.23.4->dython) (2.8.0)\n",
      "Requirement already satisfied: cycler>=0.10 in c:\\users\\stwan\\anaconda3\\lib\\site-packages (from matplotlib->dython) (0.10.0)\n",
      "Requirement already satisfied: kiwisolver>=1.0.1 in c:\\users\\stwan\\anaconda3\\lib\\site-packages (from matplotlib->dython) (1.0.1)\n",
      "Requirement already satisfied: pyparsing!=2.0.4,!=2.1.2,!=2.1.6,>=2.0.1 in c:\\users\\stwan\\anaconda3\\lib\\site-packages (from matplotlib->dython) (2.3.1)\n",
      "Requirement already satisfied: joblib>=0.10 in c:\\users\\stwan\\anaconda3\\lib\\site-packages (from scikit-plot>=0.3.7->dython) (0.14.1)\n",
      "Requirement already satisfied: six>=1.5 in c:\\users\\stwan\\anaconda3\\lib\\site-packages (from python-dateutil>=2.5.0->pandas>=0.23.4->dython) (1.12.0)\n",
      "Requirement already satisfied: setuptools in c:\\users\\stwan\\anaconda3\\lib\\site-packages (from kiwisolver>=1.0.1->matplotlib->dython) (41.0.1)\n",
      "Installing collected packages: scikit-plot, dython\n",
      "Successfully installed dython-0.6.7 scikit-plot-0.3.7\n",
      "Note: you may need to restart the kernel to use updated packages.\n"
     ]
    },
    {
     "name": "stderr",
     "output_type": "stream",
     "text": [
      "WARNING: You are using pip version 20.1.1; however, version 21.2.4 is available.\n",
      "You should consider upgrading via the 'C:\\Users\\stwan\\Anaconda3\\python.exe -m pip install --upgrade pip' command.\n"
     ]
    }
   ],
   "source": [
    "pip install dython"
   ]
  },
  {
   "cell_type": "code",
   "execution_count": 2,
   "metadata": {},
   "outputs": [
    {
     "name": "stdout",
     "output_type": "stream",
     "text": [
      "Collecting pip\n",
      "  Downloading pip-21.2.4-py3-none-any.whl (1.6 MB)\n",
      "Installing collected packages: pip\n",
      "  Attempting uninstall: pip\n",
      "    Found existing installation: pip 20.1.1\n",
      "    Uninstalling pip-20.1.1:\n",
      "      Successfully uninstalled pip-20.1.1\n",
      "Successfully installed pip-21.2.4\n",
      "Note: you may need to restart the kernel to use updated packages.\n"
     ]
    }
   ],
   "source": [
    "pip install --upgrade pip ## upgrade pip"
   ]
  },
  {
   "cell_type": "code",
   "execution_count": 3,
   "metadata": {},
   "outputs": [
    {
     "name": "stdout",
     "output_type": "stream",
     "text": [
      "Requirement already satisfied: dython in c:\\users\\stwan\\anaconda3\\lib\\site-packages (0.6.7)\n",
      "Requirement already satisfied: pandas>=0.23.4 in c:\\users\\stwan\\anaconda3\\lib\\site-packages (from dython) (0.24.2)\n",
      "Requirement already satisfied: numpy in c:\\users\\stwan\\anaconda3\\lib\\site-packages (from dython) (1.16.2)\n",
      "Requirement already satisfied: scikit-learn in c:\\users\\stwan\\anaconda3\\lib\\site-packages (from dython) (0.22.2.post1)\n",
      "Requirement already satisfied: seaborn in c:\\users\\stwan\\anaconda3\\lib\\site-packages (from dython) (0.11.1)\n",
      "Requirement already satisfied: matplotlib in c:\\users\\stwan\\anaconda3\\lib\\site-packages (from dython) (3.0.3)\n",
      "Requirement already satisfied: scikit-plot>=0.3.7 in c:\\users\\stwan\\anaconda3\\lib\\site-packages (from dython) (0.3.7)\n",
      "Requirement already satisfied: scipy in c:\\users\\stwan\\anaconda3\\lib\\site-packages (from dython) (1.2.1)\n",
      "Requirement already satisfied: pytz>=2011k in c:\\users\\stwan\\anaconda3\\lib\\site-packages (from pandas>=0.23.4->dython) (2018.9)\n",
      "Requirement already satisfied: python-dateutil>=2.5.0 in c:\\users\\stwan\\anaconda3\\lib\\site-packages (from pandas>=0.23.4->dython) (2.8.0)\n",
      "Requirement already satisfied: six>=1.5 in c:\\users\\stwan\\anaconda3\\lib\\site-packages (from python-dateutil>=2.5.0->pandas>=0.23.4->dython) (1.12.0)\n",
      "Requirement already satisfied: joblib>=0.10 in c:\\users\\stwan\\anaconda3\\lib\\site-packages (from scikit-plot>=0.3.7->dython) (0.14.1)\n",
      "Requirement already satisfied: cycler>=0.10 in c:\\users\\stwan\\anaconda3\\lib\\site-packages (from matplotlib->dython) (0.10.0)\n",
      "Requirement already satisfied: kiwisolver>=1.0.1 in c:\\users\\stwan\\anaconda3\\lib\\site-packages (from matplotlib->dython) (1.0.1)\n",
      "Requirement already satisfied: pyparsing!=2.0.4,!=2.1.2,!=2.1.6,>=2.0.1 in c:\\users\\stwan\\anaconda3\\lib\\site-packages (from matplotlib->dython) (2.3.1)\n",
      "Requirement already satisfied: setuptools in c:\\users\\stwan\\anaconda3\\lib\\site-packages (from kiwisolver>=1.0.1->matplotlib->dython) (41.0.1)\n",
      "Note: you may need to restart the kernel to use updated packages.\n"
     ]
    }
   ],
   "source": [
    "pip install dython"
   ]
  },
  {
   "cell_type": "markdown",
   "metadata": {},
   "source": [
    "# 导入函数"
   ]
  },
  {
   "cell_type": "code",
   "execution_count": 5,
   "metadata": {},
   "outputs": [],
   "source": [
    "import dython"
   ]
  },
  {
   "cell_type": "markdown",
   "metadata": {},
   "source": [
    "## data_utils"
   ]
  },
  {
   "cell_type": "code",
   "execution_count": null,
   "metadata": {},
   "outputs": [],
   "source": [
    "from dython.data_utils import "
   ]
  },
  {
   "cell_type": "code",
   "execution_count": null,
   "metadata": {},
   "outputs": [],
   "source": []
  },
  {
   "cell_type": "code",
   "execution_count": null,
   "metadata": {},
   "outputs": [],
   "source": []
  },
  {
   "cell_type": "markdown",
   "metadata": {},
   "source": [
    "## nominal"
   ]
  },
  {
   "cell_type": "code",
   "execution_count": null,
   "metadata": {},
   "outputs": [],
   "source": []
  },
  {
   "cell_type": "code",
   "execution_count": null,
   "metadata": {},
   "outputs": [],
   "source": []
  },
  {
   "cell_type": "code",
   "execution_count": null,
   "metadata": {},
   "outputs": [],
   "source": []
  },
  {
   "cell_type": "markdown",
   "metadata": {},
   "source": [
    "## model_utils"
   ]
  },
  {
   "cell_type": "code",
   "execution_count": null,
   "metadata": {},
   "outputs": [],
   "source": []
  },
  {
   "cell_type": "code",
   "execution_count": null,
   "metadata": {},
   "outputs": [],
   "source": []
  },
  {
   "cell_type": "code",
   "execution_count": null,
   "metadata": {},
   "outputs": [],
   "source": []
  },
  {
   "cell_type": "code",
   "execution_count": null,
   "metadata": {},
   "outputs": [],
   "source": []
  },
  {
   "cell_type": "markdown",
   "metadata": {},
   "source": [
    "## sampling"
   ]
  },
  {
   "cell_type": "code",
   "execution_count": null,
   "metadata": {},
   "outputs": [],
   "source": []
  }
 ],
 "metadata": {
  "kernelspec": {
   "display_name": "Python 3",
   "language": "python",
   "name": "python3"
  },
  "language_info": {
   "codemirror_mode": {
    "name": "ipython",
    "version": 3
   },
   "file_extension": ".py",
   "mimetype": "text/x-python",
   "name": "python",
   "nbconvert_exporter": "python",
   "pygments_lexer": "ipython3",
   "version": "3.7.3"
  }
 },
 "nbformat": 4,
 "nbformat_minor": 2
}
